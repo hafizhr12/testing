{
  "cells": [
    {
      "cell_type": "markdown",
      "metadata": {
        "id": "view-in-github",
        "colab_type": "text"
      },
      "source": [
        "<a href=\"https://colab.research.google.com/github/hafizhr12/testing/blob/main/Beruang_Madu.ipynb\" target=\"_parent\"><img src=\"https://colab.research.google.com/assets/colab-badge.svg\" alt=\"Open In Colab\"/></a>"
      ]
    },
    {
      "cell_type": "code",
      "execution_count": null,
      "metadata": {
        "colab": {
          "base_uri": "https://localhost:8080/"
        },
        "id": "c592Grt-EE2o",
        "outputId": "a779de0b-5bd8-4278-c501-ac680cfb95ef"
      },
      "outputs": [
        {
          "output_type": "stream",
          "name": "stdout",
          "text": [
            "Looking in indexes: https://pypi.org/simple, https://us-python.pkg.dev/colab-wheels/public/simple/\n",
            "Collecting range_key_dict\n",
            "  Downloading range_key_dict-1.1.0-py2.py3-none-any.whl (3.3 kB)\n",
            "Installing collected packages: range-key-dict\n",
            "Successfully installed range-key-dict-1.1.0\n",
            "Looking in indexes: https://pypi.org/simple, https://us-python.pkg.dev/colab-wheels/public/simple/\n",
            "Requirement already satisfied: imbalanced-learn in /usr/local/lib/python3.7/dist-packages (0.8.1)\n",
            "Collecting imbalanced-learn\n",
            "  Downloading imbalanced_learn-0.9.1-py3-none-any.whl (199 kB)\n",
            "\u001b[K     |████████████████████████████████| 199 kB 5.1 MB/s \n",
            "\u001b[?25h  Downloading imbalanced_learn-0.9.0-py3-none-any.whl (199 kB)\n",
            "\u001b[K     |████████████████████████████████| 199 kB 42.4 MB/s \n",
            "\u001b[?25hRequirement already satisfied: scikit-learn>=1.0.1 in /usr/local/lib/python3.7/dist-packages (from imbalanced-learn) (1.0.2)\n",
            "Requirement already satisfied: scipy>=1.1.0 in /usr/local/lib/python3.7/dist-packages (from imbalanced-learn) (1.7.3)\n",
            "Requirement already satisfied: numpy>=1.14.6 in /usr/local/lib/python3.7/dist-packages (from imbalanced-learn) (1.21.6)\n",
            "Requirement already satisfied: threadpoolctl>=2.0.0 in /usr/local/lib/python3.7/dist-packages (from imbalanced-learn) (3.1.0)\n",
            "Requirement already satisfied: joblib>=0.11 in /usr/local/lib/python3.7/dist-packages (from imbalanced-learn) (1.2.0)\n",
            "Installing collected packages: imbalanced-learn\n",
            "  Attempting uninstall: imbalanced-learn\n",
            "    Found existing installation: imbalanced-learn 0.8.1\n",
            "    Uninstalling imbalanced-learn-0.8.1:\n",
            "      Successfully uninstalled imbalanced-learn-0.8.1\n",
            "Successfully installed imbalanced-learn-0.9.0\n",
            "Looking in indexes: https://pypi.org/simple, https://us-python.pkg.dev/colab-wheels/public/simple/\n",
            "Collecting scikit-learn==1.0.1\n",
            "  Downloading scikit_learn-1.0.1-cp37-cp37m-manylinux_2_12_x86_64.manylinux2010_x86_64.whl (23.2 MB)\n",
            "\u001b[K     |████████████████████████████████| 23.2 MB 1.6 MB/s \n",
            "\u001b[?25hRequirement already satisfied: threadpoolctl>=2.0.0 in /usr/local/lib/python3.7/dist-packages (from scikit-learn==1.0.1) (3.1.0)\n",
            "Requirement already satisfied: scipy>=1.1.0 in /usr/local/lib/python3.7/dist-packages (from scikit-learn==1.0.1) (1.7.3)\n",
            "Requirement already satisfied: numpy>=1.14.6 in /usr/local/lib/python3.7/dist-packages (from scikit-learn==1.0.1) (1.21.6)\n",
            "Requirement already satisfied: joblib>=0.11 in /usr/local/lib/python3.7/dist-packages (from scikit-learn==1.0.1) (1.2.0)\n",
            "Installing collected packages: scikit-learn\n",
            "  Attempting uninstall: scikit-learn\n",
            "    Found existing installation: scikit-learn 1.0.2\n",
            "    Uninstalling scikit-learn-1.0.2:\n",
            "      Successfully uninstalled scikit-learn-1.0.2\n",
            "Successfully installed scikit-learn-1.0.1\n"
          ]
        }
      ],
      "source": [
        "!pip install range_key_dict\n",
        "!pip install -U imbalanced-learn\n",
        "!pip install scikit-learn==1.0.1"
      ]
    },
    {
      "cell_type": "code",
      "execution_count": null,
      "metadata": {
        "id": "Fj0J8XGREE2t"
      },
      "outputs": [],
      "source": [
        "from sklearn.preprocessing import LabelEncoder\n",
        "from sklearn.preprocessing import MinMaxScaler\n",
        "from sklearn.metrics import confusion_matrix\n",
        "\n",
        "import pandas as pd\n",
        "import numpy as np\n",
        "import matplotlib.pyplot as plt"
      ]
    },
    {
      "cell_type": "code",
      "execution_count": null,
      "metadata": {
        "id": "B1umQNsc00ZL",
        "colab": {
          "base_uri": "https://localhost:8080/"
        },
        "outputId": "55eb9530-3031-431c-ca4a-e49784eb24a1"
      },
      "outputs": [
        {
          "output_type": "stream",
          "name": "stdout",
          "text": [
            "Mounted at /content/drive\n"
          ]
        }
      ],
      "source": [
        "from google.colab import drive\n",
        "drive.mount('/content/drive')"
      ]
    },
    {
      "cell_type": "code",
      "execution_count": null,
      "metadata": {
        "id": "e3H5SeWoEE2v"
      },
      "outputs": [],
      "source": [
        "# Data Collection\n",
        "\n",
        "df_bpjs = pd.read_csv(\"/content/drive/MyDrive/Colab Notebooks/sampling_healtkathon2022.csv\")\n",
        "df_diagnose = pd.read_csv(\"/content/drive/MyDrive/Colab Notebooks/sampling_healthkathon2022_diagnosa.csv\")\n",
        "df_procedure = pd.read_csv(\"/content/drive/MyDrive/Colab Notebooks/sampling_healthkathon2022_procedure.csv\")"
      ]
    },
    {
      "cell_type": "markdown",
      "metadata": {
        "collapsed": false,
        "id": "tFoGz5r6EE2x"
      },
      "source": [
        "## Data Prep (Check Data Quality)"
      ]
    },
    {
      "cell_type": "markdown",
      "source": [
        "#### 1. Duplicate Data"
      ],
      "metadata": {
        "id": "d-GzOW4HQ8NT"
      }
    },
    {
      "cell_type": "code",
      "execution_count": null,
      "metadata": {
        "id": "ucvZJei6EE20",
        "colab": {
          "base_uri": "https://localhost:8080/"
        },
        "outputId": "0d6f3c0c-afcd-4a02-c32e-639db3fbeccb"
      },
      "outputs": [
        {
          "output_type": "execute_result",
          "data": {
            "text/plain": [
              "id        id_peserta  dati2  typefaskes  usia  jenkel  pisat  tgldatang                 tglpulang                 jenispel  politujuan  diagfktp  biaya     jenispulang  cbg       kelasrawat  kdsa  kdsp  kdsr  kdsi  kdsd  label\n",
              "3481090   3426723     187    SD          28    P       4.0    2018-03-11T17:00:00.000Z  2018-03-11T17:00:00.000Z  2         OBG         E28.2     178700.0  1.0          Z-3-27-0  3           None  None  None  None  None  0        2\n",
              "11146119  7139795     238    C           31    L       1.0    2018-03-18T17:00:00.000Z  2018-03-18T17:00:00.000Z  2         SAR         I64       139600.0  1.0          Z-3-12-0  3           None  None  None  None  None  0        2\n",
              "8603080   574878      171    SB          30    L       1.0    2020-11-11T17:00:00.000Z  2020-11-11T17:00:00.000Z  2         BSY         G50       192400.0  1.0          Q-5-44-0  3           None  None  None  None  None  0        2\n",
              "2         1173029     1      SD          9     P       4.0    2018-01-01T17:00:00.000Z  2018-01-01T17:00:00.000Z  2         MAT         H52.6     187300.0  1.0          Q-5-44-0  3           None  None  None  None  None  0        1\n",
              "7359806   4153830     221    SB          39    P       3.0    2018-03-12T17:00:00.000Z  2018-03-12T17:00:00.000Z  2         PAR         Z09.8     192400.0  1.0          Q-5-44-0  3           None  None  None  None  None  0        1\n",
              "                                                                                                                                                                                                                                     ..\n",
              "3710105   6485998     38     B           7     L       4.0    2018-05-23T17:00:00.000Z  2018-05-23T17:00:00.000Z  2         FIS         Z03.8     155600.0  5.0          Z-3-12-0  3           None  None  None  None  None  0        1\n",
              "3710104   5383926     38     B           74    L       1.0    2018-05-23T17:00:00.000Z  2018-05-23T17:00:00.000Z  2         FIS         M54.05    155600.0  5.0          Z-3-12-0  3           None  None  None  None  None  0        1\n",
              "3710103   7234530     38     B           40    L       1.0    2018-05-23T17:00:00.000Z  2018-05-23T17:00:00.000Z  2         BED         I84.9     185500.0  5.0          Q-5-44-0  3           None  None  None  None  None  0        1\n",
              "3710102   55487       38     B           60    P       3.0    2018-05-23T17:00:00.000Z  2018-05-23T17:00:00.000Z  2         FIS         Z03.8     114400.0  5.0          M-3-16-0  3           None  None  None  None  None  0        1\n",
              "11426957  2212167     386    D           47    P       3.0    2020-12-02T17:00:00.000Z  2020-12-02T17:00:00.000Z  2         INT         J06.9     133000.0  1.0          Q-5-25-0  3           None  None  None  None  None  0        1\n",
              "Length: 7183929, dtype: int64"
            ]
          },
          "metadata": {},
          "execution_count": 5
        }
      ],
      "source": [
        "df_bpjs.value_counts()"
      ]
    },
    {
      "cell_type": "code",
      "execution_count": null,
      "metadata": {
        "id": "GKl531XuEE23",
        "colab": {
          "base_uri": "https://localhost:8080/"
        },
        "outputId": "d403ce31-24a4-4a3d-8ea2-c2ee373ba298"
      },
      "outputs": [
        {
          "output_type": "execute_result",
          "data": {
            "text/plain": [
              "(11401882, 22)"
            ]
          },
          "metadata": {},
          "execution_count": 6
        }
      ],
      "source": [
        "df_bpjs.shape"
      ]
    },
    {
      "cell_type": "code",
      "execution_count": null,
      "metadata": {
        "id": "Gxo2GLmeEE25",
        "colab": {
          "base_uri": "https://localhost:8080/"
        },
        "outputId": "92768a21-7fc1-4015-e214-f5e12e67bdf4"
      },
      "outputs": [
        {
          "output_type": "execute_result",
          "data": {
            "text/plain": [
              "id        proc \n",
              "3966586   67.61    4\n",
              "          99.04    4\n",
              "          86.22    4\n",
              "10749999  99.18    2\n",
              "10608307  93.96    2\n",
              "                  ..\n",
              "4554211   99.18    1\n",
              "4554212   39.95    1\n",
              "4554213   90.59    1\n",
              "4554215   90.59    1\n",
              "11426953  23.09    1\n",
              "Length: 12202824, dtype: int64"
            ]
          },
          "metadata": {},
          "execution_count": 7
        }
      ],
      "source": [
        "df_procedure.value_counts()"
      ]
    },
    {
      "cell_type": "code",
      "execution_count": null,
      "metadata": {
        "id": "o3nig13AEE27",
        "colab": {
          "base_uri": "https://localhost:8080/"
        },
        "outputId": "825830b4-426c-41f4-878a-fce4a01282bb"
      },
      "outputs": [
        {
          "output_type": "execute_result",
          "data": {
            "text/plain": [
              "(12202871, 2)"
            ]
          },
          "metadata": {},
          "execution_count": 8
        }
      ],
      "source": [
        "df_procedure.shape"
      ]
    },
    {
      "cell_type": "code",
      "execution_count": null,
      "metadata": {
        "id": "ZxKBkQLuEE2-",
        "colab": {
          "base_uri": "https://localhost:8080/"
        },
        "outputId": "323a34be-0f0b-400e-e4e1-52ea9b139567"
      },
      "outputs": [
        {
          "output_type": "execute_result",
          "data": {
            "text/plain": [
              "id        diag   levelid\n",
              "4020415   T81.3  2          4\n",
              "          O82.9  1          4\n",
              "3966586   D64.9  2          4\n",
              "          T81.3  1          4\n",
              "4020415   O99.0  2          4\n",
              "                           ..\n",
              "3976361   L01.0  1          1\n",
              "3976362   S09.8  1          1\n",
              "3976363   J45.9  1          1\n",
              "3976364   J06.9  2          1\n",
              "11426957  R10.0  1          1\n",
              "Length: 17308480, dtype: int64"
            ]
          },
          "metadata": {},
          "execution_count": 9
        }
      ],
      "source": [
        "df_diagnose.value_counts()"
      ]
    },
    {
      "cell_type": "code",
      "execution_count": null,
      "metadata": {
        "id": "7n4mM4olEE3B",
        "colab": {
          "base_uri": "https://localhost:8080/"
        },
        "outputId": "77836cd5-092a-43c1-fecc-b401728d6650"
      },
      "outputs": [
        {
          "output_type": "execute_result",
          "data": {
            "text/plain": [
              "(17308536, 3)"
            ]
          },
          "metadata": {},
          "execution_count": 10
        }
      ],
      "source": [
        "df_diagnose.shape"
      ]
    },
    {
      "cell_type": "code",
      "execution_count": null,
      "metadata": {
        "id": "X-XnfnAEEE3D"
      },
      "outputs": [],
      "source": [
        "df_bpjs_dupe = df_bpjs.drop_duplicates()\n",
        "df_procedure_dupe = df_procedure.drop_duplicates()\n",
        "df_diagnose_dupe = df_diagnose.drop_duplicates()"
      ]
    },
    {
      "cell_type": "code",
      "execution_count": null,
      "metadata": {
        "id": "5F2hDeLmEE3E",
        "colab": {
          "base_uri": "https://localhost:8080/"
        },
        "outputId": "956ca4fc-4758-44bd-89cb-8a8325231fbf"
      },
      "outputs": [
        {
          "output_type": "stream",
          "name": "stdout",
          "text": [
            "(11401868, 22)\n",
            "(12202824, 2)\n",
            "(17308480, 3)\n"
          ]
        }
      ],
      "source": [
        "print(df_bpjs_dupe.shape)\n",
        "print(df_procedure_dupe.shape)\n",
        "print(df_diagnose_dupe.shape)"
      ]
    },
    {
      "cell_type": "code",
      "execution_count": null,
      "metadata": {
        "id": "SZMRuVv7EE3H",
        "colab": {
          "base_uri": "https://localhost:8080/"
        },
        "outputId": "3ea934fd-a0b0-44b9-c78f-804f13a061a9"
      },
      "outputs": [
        {
          "output_type": "stream",
          "name": "stdout",
          "text": [
            "<class 'pandas.core.frame.DataFrame'>\n",
            "Int64Index: 11401868 entries, 0 to 11401881\n",
            "Data columns (total 22 columns):\n",
            " #   Column       Non-Null Count     Dtype  \n",
            "---  ------       --------------     -----  \n",
            " 0   id           11401868 non-null  int64  \n",
            " 1   id_peserta   11401868 non-null  int64  \n",
            " 2   dati2        11401868 non-null  int64  \n",
            " 3   typefaskes   11401868 non-null  object \n",
            " 4   usia         11401868 non-null  int64  \n",
            " 5   jenkel       11401819 non-null  object \n",
            " 6   pisat        11401678 non-null  float64\n",
            " 7   tgldatang    11401868 non-null  object \n",
            " 8   tglpulang    11401868 non-null  object \n",
            " 9   jenispel     11401868 non-null  int64  \n",
            " 10  politujuan   7360424 non-null   object \n",
            " 11  diagfktp     11399338 non-null  object \n",
            " 12  biaya        11344053 non-null  float64\n",
            " 13  jenispulang  11401829 non-null  float64\n",
            " 14  cbg          11401868 non-null  object \n",
            " 15  kelasrawat   11401868 non-null  int64  \n",
            " 16  kdsa         11203198 non-null  object \n",
            " 17  kdsp         11204861 non-null  object \n",
            " 18  kdsr         11203409 non-null  object \n",
            " 19  kdsi         11203405 non-null  object \n",
            " 20  kdsd         11206687 non-null  object \n",
            " 21  label        11401868 non-null  int64  \n",
            "dtypes: float64(3), int64(7), object(12)\n",
            "memory usage: 2.0+ GB\n"
          ]
        }
      ],
      "source": [
        "df_bpjs_dupe.info(verbose=True, show_counts=True)"
      ]
    },
    {
      "cell_type": "code",
      "execution_count": null,
      "metadata": {
        "id": "tmSXsn2sEE3I",
        "colab": {
          "base_uri": "https://localhost:8080/",
          "height": 364
        },
        "outputId": "84e21394-2320-4415-9258-3d0022f3dc4d"
      },
      "outputs": [
        {
          "output_type": "execute_result",
          "data": {
            "text/plain": [
              "                 id    id_peserta         dati2          usia         pisat  \\\n",
              "count  1.140187e+07  1.140187e+07  1.140187e+07  1.140187e+07  1.140168e+07   \n",
              "mean   5.712718e+06  4.199294e+06  1.825299e+02  3.705690e+01  2.498204e+00   \n",
              "std    3.298534e+06  2.436249e+06  1.061352e+02  2.292188e+01  1.390863e+00   \n",
              "min    1.000000e+00  1.000000e+00  1.000000e+00  0.000000e+00  1.000000e+00   \n",
              "25%    2.855429e+06  2.119460e+06  1.140000e+02  1.800000e+01  1.000000e+00   \n",
              "50%    5.712226e+06  4.161532e+06  1.590000e+02  3.900000e+01  3.000000e+00   \n",
              "75%    8.568898e+06  6.292148e+06  2.280000e+02  5.600000e+01  4.000000e+00   \n",
              "max    1.142696e+07  8.527919e+06  5.280000e+02  1.100000e+02  5.000000e+00   \n",
              "\n",
              "           jenispel         biaya   jenispulang    kelasrawat         label  \n",
              "count  1.140187e+07  1.134405e+07  1.140183e+07  1.140187e+07  1.140187e+07  \n",
              "mean   1.645544e+00  2.146843e+06  1.094596e+00  2.784696e+00  1.375950e-02  \n",
              "std    4.783481e-01  5.207570e+06  5.131554e-01  5.511468e-01  1.164911e-01  \n",
              "min    1.000000e+00  0.000000e+00  1.000000e+00  1.000000e+00  0.000000e+00  \n",
              "25%    1.000000e+00  1.904000e+05  1.000000e+00  3.000000e+00  0.000000e+00  \n",
              "50%    2.000000e+00  2.872000e+05  1.000000e+00  3.000000e+00  0.000000e+00  \n",
              "75%    2.000000e+00  2.996000e+06  1.000000e+00  3.000000e+00  0.000000e+00  \n",
              "max    2.000000e+00  4.016966e+08  5.000000e+00  3.000000e+00  1.000000e+00  "
            ],
            "text/html": [
              "\n",
              "  <div id=\"df-d008b203-fa3f-4e08-ad40-3fd9f6db8e61\">\n",
              "    <div class=\"colab-df-container\">\n",
              "      <div>\n",
              "<style scoped>\n",
              "    .dataframe tbody tr th:only-of-type {\n",
              "        vertical-align: middle;\n",
              "    }\n",
              "\n",
              "    .dataframe tbody tr th {\n",
              "        vertical-align: top;\n",
              "    }\n",
              "\n",
              "    .dataframe thead th {\n",
              "        text-align: right;\n",
              "    }\n",
              "</style>\n",
              "<table border=\"1\" class=\"dataframe\">\n",
              "  <thead>\n",
              "    <tr style=\"text-align: right;\">\n",
              "      <th></th>\n",
              "      <th>id</th>\n",
              "      <th>id_peserta</th>\n",
              "      <th>dati2</th>\n",
              "      <th>usia</th>\n",
              "      <th>pisat</th>\n",
              "      <th>jenispel</th>\n",
              "      <th>biaya</th>\n",
              "      <th>jenispulang</th>\n",
              "      <th>kelasrawat</th>\n",
              "      <th>label</th>\n",
              "    </tr>\n",
              "  </thead>\n",
              "  <tbody>\n",
              "    <tr>\n",
              "      <th>count</th>\n",
              "      <td>1.140187e+07</td>\n",
              "      <td>1.140187e+07</td>\n",
              "      <td>1.140187e+07</td>\n",
              "      <td>1.140187e+07</td>\n",
              "      <td>1.140168e+07</td>\n",
              "      <td>1.140187e+07</td>\n",
              "      <td>1.134405e+07</td>\n",
              "      <td>1.140183e+07</td>\n",
              "      <td>1.140187e+07</td>\n",
              "      <td>1.140187e+07</td>\n",
              "    </tr>\n",
              "    <tr>\n",
              "      <th>mean</th>\n",
              "      <td>5.712718e+06</td>\n",
              "      <td>4.199294e+06</td>\n",
              "      <td>1.825299e+02</td>\n",
              "      <td>3.705690e+01</td>\n",
              "      <td>2.498204e+00</td>\n",
              "      <td>1.645544e+00</td>\n",
              "      <td>2.146843e+06</td>\n",
              "      <td>1.094596e+00</td>\n",
              "      <td>2.784696e+00</td>\n",
              "      <td>1.375950e-02</td>\n",
              "    </tr>\n",
              "    <tr>\n",
              "      <th>std</th>\n",
              "      <td>3.298534e+06</td>\n",
              "      <td>2.436249e+06</td>\n",
              "      <td>1.061352e+02</td>\n",
              "      <td>2.292188e+01</td>\n",
              "      <td>1.390863e+00</td>\n",
              "      <td>4.783481e-01</td>\n",
              "      <td>5.207570e+06</td>\n",
              "      <td>5.131554e-01</td>\n",
              "      <td>5.511468e-01</td>\n",
              "      <td>1.164911e-01</td>\n",
              "    </tr>\n",
              "    <tr>\n",
              "      <th>min</th>\n",
              "      <td>1.000000e+00</td>\n",
              "      <td>1.000000e+00</td>\n",
              "      <td>1.000000e+00</td>\n",
              "      <td>0.000000e+00</td>\n",
              "      <td>1.000000e+00</td>\n",
              "      <td>1.000000e+00</td>\n",
              "      <td>0.000000e+00</td>\n",
              "      <td>1.000000e+00</td>\n",
              "      <td>1.000000e+00</td>\n",
              "      <td>0.000000e+00</td>\n",
              "    </tr>\n",
              "    <tr>\n",
              "      <th>25%</th>\n",
              "      <td>2.855429e+06</td>\n",
              "      <td>2.119460e+06</td>\n",
              "      <td>1.140000e+02</td>\n",
              "      <td>1.800000e+01</td>\n",
              "      <td>1.000000e+00</td>\n",
              "      <td>1.000000e+00</td>\n",
              "      <td>1.904000e+05</td>\n",
              "      <td>1.000000e+00</td>\n",
              "      <td>3.000000e+00</td>\n",
              "      <td>0.000000e+00</td>\n",
              "    </tr>\n",
              "    <tr>\n",
              "      <th>50%</th>\n",
              "      <td>5.712226e+06</td>\n",
              "      <td>4.161532e+06</td>\n",
              "      <td>1.590000e+02</td>\n",
              "      <td>3.900000e+01</td>\n",
              "      <td>3.000000e+00</td>\n",
              "      <td>2.000000e+00</td>\n",
              "      <td>2.872000e+05</td>\n",
              "      <td>1.000000e+00</td>\n",
              "      <td>3.000000e+00</td>\n",
              "      <td>0.000000e+00</td>\n",
              "    </tr>\n",
              "    <tr>\n",
              "      <th>75%</th>\n",
              "      <td>8.568898e+06</td>\n",
              "      <td>6.292148e+06</td>\n",
              "      <td>2.280000e+02</td>\n",
              "      <td>5.600000e+01</td>\n",
              "      <td>4.000000e+00</td>\n",
              "      <td>2.000000e+00</td>\n",
              "      <td>2.996000e+06</td>\n",
              "      <td>1.000000e+00</td>\n",
              "      <td>3.000000e+00</td>\n",
              "      <td>0.000000e+00</td>\n",
              "    </tr>\n",
              "    <tr>\n",
              "      <th>max</th>\n",
              "      <td>1.142696e+07</td>\n",
              "      <td>8.527919e+06</td>\n",
              "      <td>5.280000e+02</td>\n",
              "      <td>1.100000e+02</td>\n",
              "      <td>5.000000e+00</td>\n",
              "      <td>2.000000e+00</td>\n",
              "      <td>4.016966e+08</td>\n",
              "      <td>5.000000e+00</td>\n",
              "      <td>3.000000e+00</td>\n",
              "      <td>1.000000e+00</td>\n",
              "    </tr>\n",
              "  </tbody>\n",
              "</table>\n",
              "</div>\n",
              "      <button class=\"colab-df-convert\" onclick=\"convertToInteractive('df-d008b203-fa3f-4e08-ad40-3fd9f6db8e61')\"\n",
              "              title=\"Convert this dataframe to an interactive table.\"\n",
              "              style=\"display:none;\">\n",
              "        \n",
              "  <svg xmlns=\"http://www.w3.org/2000/svg\" height=\"24px\"viewBox=\"0 0 24 24\"\n",
              "       width=\"24px\">\n",
              "    <path d=\"M0 0h24v24H0V0z\" fill=\"none\"/>\n",
              "    <path d=\"M18.56 5.44l.94 2.06.94-2.06 2.06-.94-2.06-.94-.94-2.06-.94 2.06-2.06.94zm-11 1L8.5 8.5l.94-2.06 2.06-.94-2.06-.94L8.5 2.5l-.94 2.06-2.06.94zm10 10l.94 2.06.94-2.06 2.06-.94-2.06-.94-.94-2.06-.94 2.06-2.06.94z\"/><path d=\"M17.41 7.96l-1.37-1.37c-.4-.4-.92-.59-1.43-.59-.52 0-1.04.2-1.43.59L10.3 9.45l-7.72 7.72c-.78.78-.78 2.05 0 2.83L4 21.41c.39.39.9.59 1.41.59.51 0 1.02-.2 1.41-.59l7.78-7.78 2.81-2.81c.8-.78.8-2.07 0-2.86zM5.41 20L4 18.59l7.72-7.72 1.47 1.35L5.41 20z\"/>\n",
              "  </svg>\n",
              "      </button>\n",
              "      \n",
              "  <style>\n",
              "    .colab-df-container {\n",
              "      display:flex;\n",
              "      flex-wrap:wrap;\n",
              "      gap: 12px;\n",
              "    }\n",
              "\n",
              "    .colab-df-convert {\n",
              "      background-color: #E8F0FE;\n",
              "      border: none;\n",
              "      border-radius: 50%;\n",
              "      cursor: pointer;\n",
              "      display: none;\n",
              "      fill: #1967D2;\n",
              "      height: 32px;\n",
              "      padding: 0 0 0 0;\n",
              "      width: 32px;\n",
              "    }\n",
              "\n",
              "    .colab-df-convert:hover {\n",
              "      background-color: #E2EBFA;\n",
              "      box-shadow: 0px 1px 2px rgba(60, 64, 67, 0.3), 0px 1px 3px 1px rgba(60, 64, 67, 0.15);\n",
              "      fill: #174EA6;\n",
              "    }\n",
              "\n",
              "    [theme=dark] .colab-df-convert {\n",
              "      background-color: #3B4455;\n",
              "      fill: #D2E3FC;\n",
              "    }\n",
              "\n",
              "    [theme=dark] .colab-df-convert:hover {\n",
              "      background-color: #434B5C;\n",
              "      box-shadow: 0px 1px 3px 1px rgba(0, 0, 0, 0.15);\n",
              "      filter: drop-shadow(0px 1px 2px rgba(0, 0, 0, 0.3));\n",
              "      fill: #FFFFFF;\n",
              "    }\n",
              "  </style>\n",
              "\n",
              "      <script>\n",
              "        const buttonEl =\n",
              "          document.querySelector('#df-d008b203-fa3f-4e08-ad40-3fd9f6db8e61 button.colab-df-convert');\n",
              "        buttonEl.style.display =\n",
              "          google.colab.kernel.accessAllowed ? 'block' : 'none';\n",
              "\n",
              "        async function convertToInteractive(key) {\n",
              "          const element = document.querySelector('#df-d008b203-fa3f-4e08-ad40-3fd9f6db8e61');\n",
              "          const dataTable =\n",
              "            await google.colab.kernel.invokeFunction('convertToInteractive',\n",
              "                                                     [key], {});\n",
              "          if (!dataTable) return;\n",
              "\n",
              "          const docLinkHtml = 'Like what you see? Visit the ' +\n",
              "            '<a target=\"_blank\" href=https://colab.research.google.com/notebooks/data_table.ipynb>data table notebook</a>'\n",
              "            + ' to learn more about interactive tables.';\n",
              "          element.innerHTML = '';\n",
              "          dataTable['output_type'] = 'display_data';\n",
              "          await google.colab.output.renderOutput(dataTable, element);\n",
              "          const docLink = document.createElement('div');\n",
              "          docLink.innerHTML = docLinkHtml;\n",
              "          element.appendChild(docLink);\n",
              "        }\n",
              "      </script>\n",
              "    </div>\n",
              "  </div>\n",
              "  "
            ]
          },
          "metadata": {},
          "execution_count": 14
        }
      ],
      "source": [
        "df_bpjs_dupe.describe()"
      ]
    },
    {
      "cell_type": "code",
      "execution_count": null,
      "metadata": {
        "id": "YNVLZUN-EE3J",
        "colab": {
          "base_uri": "https://localhost:8080/"
        },
        "outputId": "7119af7c-e699-45ae-90f6-aa17f0409837"
      },
      "outputs": [
        {
          "output_type": "execute_result",
          "data": {
            "text/plain": [
              "id                   0\n",
              "id_peserta           0\n",
              "dati2                0\n",
              "typefaskes           0\n",
              "usia                 0\n",
              "jenkel              49\n",
              "pisat              190\n",
              "tgldatang            0\n",
              "tglpulang            0\n",
              "jenispel             0\n",
              "politujuan     4041444\n",
              "diagfktp          2530\n",
              "biaya            57815\n",
              "jenispulang         39\n",
              "cbg                  0\n",
              "kelasrawat           0\n",
              "kdsa            198670\n",
              "kdsp            197007\n",
              "kdsr            198459\n",
              "kdsi            198463\n",
              "kdsd            195181\n",
              "label                0\n",
              "dtype: int64"
            ]
          },
          "metadata": {},
          "execution_count": 15
        }
      ],
      "source": [
        "df_bpjs_dupe.isnull().sum()"
      ]
    },
    {
      "cell_type": "markdown",
      "metadata": {
        "collapsed": false,
        "id": "clmv3xQCEE3L"
      },
      "source": [
        "#### 2. Drop Unnecessary Data and Columns"
      ]
    },
    {
      "cell_type": "code",
      "execution_count": null,
      "metadata": {
        "id": "8x2QudxpEE3M"
      },
      "outputs": [],
      "source": [
        "df_bpjs_notnull = df_bpjs_dupe.dropna(thresh=17)"
      ]
    },
    {
      "cell_type": "code",
      "execution_count": null,
      "metadata": {
        "id": "wyMzSBtSEE3N",
        "colab": {
          "base_uri": "https://localhost:8080/"
        },
        "outputId": "045af361-3fd3-4d9b-acf7-b903fdf27a86"
      },
      "outputs": [
        {
          "output_type": "stream",
          "name": "stdout",
          "text": [
            "<class 'pandas.core.frame.DataFrame'>\n",
            "Int64Index: 11401868 entries, 0 to 11401881\n",
            "Data columns (total 22 columns):\n",
            " #   Column       Non-Null Count     Dtype  \n",
            "---  ------       --------------     -----  \n",
            " 0   id           11401868 non-null  int64  \n",
            " 1   id_peserta   11401868 non-null  int64  \n",
            " 2   dati2        11401868 non-null  int64  \n",
            " 3   typefaskes   11401868 non-null  object \n",
            " 4   usia         11401868 non-null  int64  \n",
            " 5   jenkel       11401819 non-null  object \n",
            " 6   pisat        11401678 non-null  float64\n",
            " 7   tgldatang    11401868 non-null  object \n",
            " 8   tglpulang    11401868 non-null  object \n",
            " 9   jenispel     11401868 non-null  int64  \n",
            " 10  politujuan   7360424 non-null   object \n",
            " 11  diagfktp     11399338 non-null  object \n",
            " 12  biaya        11344053 non-null  float64\n",
            " 13  jenispulang  11401829 non-null  float64\n",
            " 14  cbg          11401868 non-null  object \n",
            " 15  kelasrawat   11401868 non-null  int64  \n",
            " 16  kdsa         11203198 non-null  object \n",
            " 17  kdsp         11204861 non-null  object \n",
            " 18  kdsr         11203409 non-null  object \n",
            " 19  kdsi         11203405 non-null  object \n",
            " 20  kdsd         11206687 non-null  object \n",
            " 21  label        11401868 non-null  int64  \n",
            "dtypes: float64(3), int64(7), object(12)\n",
            "memory usage: 2.0+ GB\n"
          ]
        }
      ],
      "source": [
        "df_bpjs_dupe.info(verbose=True, show_counts=True)"
      ]
    },
    {
      "cell_type": "code",
      "execution_count": null,
      "metadata": {
        "id": "Yk5tY4ocEE3N",
        "colab": {
          "base_uri": "https://localhost:8080/"
        },
        "outputId": "56509056-39b8-4db3-8039-35dae47f0208"
      },
      "outputs": [
        {
          "output_type": "stream",
          "name": "stderr",
          "text": [
            "/usr/local/lib/python3.7/dist-packages/pandas/core/indexing.py:1884: SettingWithCopyWarning: \n",
            "A value is trying to be set on a copy of a slice from a DataFrame.\n",
            "Try using .loc[row_indexer,col_indexer] = value instead\n",
            "\n",
            "See the caveats in the documentation: https://pandas.pydata.org/pandas-docs/stable/user_guide/indexing.html#returning-a-view-versus-a-copy\n",
            "  self._setitem_single_column(loc, val, pi)\n"
          ]
        }
      ],
      "source": [
        "# filling jenis kelamin dengan cara random L dan P\n",
        "from random import choice\n",
        "\n",
        "mask = df_bpjs_notnull[\"jenkel\"].isna()\n",
        "df_bpjs_notnull.loc[mask,['jenkel']] = df_bpjs_notnull.loc[mask,[\"jenkel\"]].applymap(lambda _: choice([\"L\",\"P\"]))"
      ]
    },
    {
      "cell_type": "code",
      "execution_count": null,
      "metadata": {
        "id": "wuAeRhpIEE3O",
        "colab": {
          "base_uri": "https://localhost:8080/"
        },
        "outputId": "1d5fa133-3be4-4c92-9291-0fc647811307"
      },
      "outputs": [
        {
          "output_type": "stream",
          "name": "stderr",
          "text": [
            "/usr/local/lib/python3.7/dist-packages/pandas/core/generic.py:6392: SettingWithCopyWarning: \n",
            "A value is trying to be set on a copy of a slice from a DataFrame\n",
            "\n",
            "See the caveats in the documentation: https://pandas.pydata.org/pandas-docs/stable/user_guide/indexing.html#returning-a-view-versus-a-copy\n",
            "  return self._update_inplace(result)\n"
          ]
        }
      ],
      "source": [
        "df_bpjs_notnull['pisat'].bfill(inplace=True)"
      ]
    },
    {
      "cell_type": "code",
      "execution_count": null,
      "metadata": {
        "id": "7_qCpk1iEE3O"
      },
      "outputs": [],
      "source": [
        "df_bpjs_notnull = df_bpjs_notnull[df_bpjs_notnull['politujuan'].notna()]"
      ]
    },
    {
      "cell_type": "code",
      "execution_count": null,
      "metadata": {
        "id": "GipZgeUsEE3P"
      },
      "outputs": [],
      "source": [
        "# buang politujuan yang null\n",
        "df_bpjs_notnull = df_bpjs_notnull[df_bpjs_notnull['politujuan'].notna()]"
      ]
    },
    {
      "cell_type": "code",
      "execution_count": null,
      "metadata": {
        "id": "-FcXnt0OEE3P"
      },
      "outputs": [],
      "source": [
        "# buang diagfktp yang null\n",
        "df_bpjs_notnull = df_bpjs_notnull[df_bpjs_notnull['diagfktp'].notna()]"
      ]
    },
    {
      "cell_type": "code",
      "execution_count": null,
      "metadata": {
        "id": "mF0t-pokEE3Q"
      },
      "outputs": [],
      "source": [
        "# buang biaya yang null\n",
        "df_bpjs_notnull = df_bpjs_notnull[df_bpjs_notnull['biaya'].notna()]"
      ]
    },
    {
      "cell_type": "code",
      "execution_count": null,
      "metadata": {
        "id": "5xCjM8P6EE3Q"
      },
      "outputs": [],
      "source": [
        "# buang jenispulang yang null\n",
        "df_bpjs_notnull = df_bpjs_notnull[df_bpjs_notnull['jenispulang'].notna()]"
      ]
    },
    {
      "cell_type": "code",
      "execution_count": null,
      "metadata": {
        "id": "jHyeSt2XEE3R"
      },
      "outputs": [],
      "source": [
        "df_bpjs_notnull[[\"kdsa\",\"kdsp\",\"kdsr\",\"kdsi\",\"kdsd\"]] = df_bpjs_notnull[[\"kdsa\",\"kdsp\",\"kdsr\",\"kdsi\",\"kdsd\"]].fillna(\"None\")"
      ]
    },
    {
      "cell_type": "code",
      "execution_count": null,
      "metadata": {
        "id": "KymFwwQk8xzN",
        "colab": {
          "base_uri": "https://localhost:8080/"
        },
        "outputId": "e322e32a-3a5b-484a-d61e-dfa8e9ef7718"
      },
      "outputs": [
        {
          "output_type": "execute_result",
          "data": {
            "text/plain": [
              "(7318108, 22)"
            ]
          },
          "metadata": {},
          "execution_count": 26
        }
      ],
      "source": [
        "df_bpjs_notnull.shape"
      ]
    },
    {
      "cell_type": "markdown",
      "metadata": {
        "collapsed": false,
        "id": "-Hy_RMXpEE3R"
      },
      "source": [
        "#### 3.Merge dataset"
      ]
    },
    {
      "cell_type": "code",
      "execution_count": null,
      "metadata": {
        "id": "UichALuYEE3S"
      },
      "outputs": [],
      "source": [
        "df_bpjs_clean = pd.merge(df_bpjs_notnull, df_diagnose_dupe, how=\"left\", on=[\"id\"])\n",
        "df_bpjs_clean = pd.merge(df_bpjs_clean, df_procedure_dupe, how=\"left\", on=[\"id\"])"
      ]
    },
    {
      "cell_type": "code",
      "execution_count": null,
      "metadata": {
        "id": "XHHtXB2vEE3S"
      },
      "outputs": [],
      "source": [
        "# buang proc yang nilainya null\n",
        "df_bpjs_clean = df_bpjs_clean[df_bpjs_clean['proc'].notna()]"
      ]
    },
    {
      "cell_type": "code",
      "execution_count": null,
      "metadata": {
        "id": "3VaE5AZSEE3T"
      },
      "outputs": [],
      "source": [
        "df_bpjs_clean = df_bpjs_clean[~df_bpjs_clean['diag'].str[0].str.isdigit()]\n",
        "df_bpjs_clean = df_bpjs_clean[df_bpjs_clean['proc'].str[0].str.isdigit()]"
      ]
    },
    {
      "cell_type": "code",
      "execution_count": null,
      "metadata": {
        "id": "kMB9UbRS9FJb",
        "colab": {
          "base_uri": "https://localhost:8080/",
          "height": 299
        },
        "outputId": "11a1cd5f-bac9-49c3-e652-9801a6f349d7"
      },
      "outputs": [
        {
          "output_type": "execute_result",
          "data": {
            "text/plain": [
              "         id  id_peserta  dati2 typefaskes  usia jenkel  pisat  \\\n",
              "11   143197         736     17         KI    46      P    1.0   \n",
              "15  1057379         751     17          B    60      L    1.0   \n",
              "20  1052148        1123     17          B    15      L    4.0   \n",
              "21  1052148        1123     17          B    15      L    4.0   \n",
              "22   998994        1289     17          A    37      P    1.0   \n",
              "\n",
              "                   tgldatang                 tglpulang  jenispel  ...  \\\n",
              "11  2020-04-19T17:00:00.000Z  2020-04-19T17:00:00.000Z         2  ...   \n",
              "15  2019-10-08T17:00:00.000Z  2019-10-08T17:00:00.000Z         2  ...   \n",
              "20  2019-04-11T17:00:00.000Z  2019-04-11T17:00:00.000Z         2  ...   \n",
              "21  2019-04-11T17:00:00.000Z  2019-04-11T17:00:00.000Z         2  ...   \n",
              "22  2019-02-11T17:00:00.000Z  2019-02-11T17:00:00.000Z         2  ...   \n",
              "\n",
              "   kelasrawat  kdsa  kdsp  kdsr  kdsi  kdsd label   diag levelid   proc  \n",
              "11          3  None  None  None  None  None     0  A09.9     1.0  99.18  \n",
              "15          3  None  None  None  None  None     0  K04.1     1.0  87.12  \n",
              "20          3  None  None  None  None  None     0  M25.6     1.0  93.34  \n",
              "21          3  None  None  None  None  None     0  M25.6     1.0  93.35  \n",
              "22          3  None  None  None  None  None     0  J45.9     1.0  93.94  \n",
              "\n",
              "[5 rows x 25 columns]"
            ],
            "text/html": [
              "\n",
              "  <div id=\"df-c8909afc-6093-467b-953b-15d071140688\">\n",
              "    <div class=\"colab-df-container\">\n",
              "      <div>\n",
              "<style scoped>\n",
              "    .dataframe tbody tr th:only-of-type {\n",
              "        vertical-align: middle;\n",
              "    }\n",
              "\n",
              "    .dataframe tbody tr th {\n",
              "        vertical-align: top;\n",
              "    }\n",
              "\n",
              "    .dataframe thead th {\n",
              "        text-align: right;\n",
              "    }\n",
              "</style>\n",
              "<table border=\"1\" class=\"dataframe\">\n",
              "  <thead>\n",
              "    <tr style=\"text-align: right;\">\n",
              "      <th></th>\n",
              "      <th>id</th>\n",
              "      <th>id_peserta</th>\n",
              "      <th>dati2</th>\n",
              "      <th>typefaskes</th>\n",
              "      <th>usia</th>\n",
              "      <th>jenkel</th>\n",
              "      <th>pisat</th>\n",
              "      <th>tgldatang</th>\n",
              "      <th>tglpulang</th>\n",
              "      <th>jenispel</th>\n",
              "      <th>...</th>\n",
              "      <th>kelasrawat</th>\n",
              "      <th>kdsa</th>\n",
              "      <th>kdsp</th>\n",
              "      <th>kdsr</th>\n",
              "      <th>kdsi</th>\n",
              "      <th>kdsd</th>\n",
              "      <th>label</th>\n",
              "      <th>diag</th>\n",
              "      <th>levelid</th>\n",
              "      <th>proc</th>\n",
              "    </tr>\n",
              "  </thead>\n",
              "  <tbody>\n",
              "    <tr>\n",
              "      <th>11</th>\n",
              "      <td>143197</td>\n",
              "      <td>736</td>\n",
              "      <td>17</td>\n",
              "      <td>KI</td>\n",
              "      <td>46</td>\n",
              "      <td>P</td>\n",
              "      <td>1.0</td>\n",
              "      <td>2020-04-19T17:00:00.000Z</td>\n",
              "      <td>2020-04-19T17:00:00.000Z</td>\n",
              "      <td>2</td>\n",
              "      <td>...</td>\n",
              "      <td>3</td>\n",
              "      <td>None</td>\n",
              "      <td>None</td>\n",
              "      <td>None</td>\n",
              "      <td>None</td>\n",
              "      <td>None</td>\n",
              "      <td>0</td>\n",
              "      <td>A09.9</td>\n",
              "      <td>1.0</td>\n",
              "      <td>99.18</td>\n",
              "    </tr>\n",
              "    <tr>\n",
              "      <th>15</th>\n",
              "      <td>1057379</td>\n",
              "      <td>751</td>\n",
              "      <td>17</td>\n",
              "      <td>B</td>\n",
              "      <td>60</td>\n",
              "      <td>L</td>\n",
              "      <td>1.0</td>\n",
              "      <td>2019-10-08T17:00:00.000Z</td>\n",
              "      <td>2019-10-08T17:00:00.000Z</td>\n",
              "      <td>2</td>\n",
              "      <td>...</td>\n",
              "      <td>3</td>\n",
              "      <td>None</td>\n",
              "      <td>None</td>\n",
              "      <td>None</td>\n",
              "      <td>None</td>\n",
              "      <td>None</td>\n",
              "      <td>0</td>\n",
              "      <td>K04.1</td>\n",
              "      <td>1.0</td>\n",
              "      <td>87.12</td>\n",
              "    </tr>\n",
              "    <tr>\n",
              "      <th>20</th>\n",
              "      <td>1052148</td>\n",
              "      <td>1123</td>\n",
              "      <td>17</td>\n",
              "      <td>B</td>\n",
              "      <td>15</td>\n",
              "      <td>L</td>\n",
              "      <td>4.0</td>\n",
              "      <td>2019-04-11T17:00:00.000Z</td>\n",
              "      <td>2019-04-11T17:00:00.000Z</td>\n",
              "      <td>2</td>\n",
              "      <td>...</td>\n",
              "      <td>3</td>\n",
              "      <td>None</td>\n",
              "      <td>None</td>\n",
              "      <td>None</td>\n",
              "      <td>None</td>\n",
              "      <td>None</td>\n",
              "      <td>0</td>\n",
              "      <td>M25.6</td>\n",
              "      <td>1.0</td>\n",
              "      <td>93.34</td>\n",
              "    </tr>\n",
              "    <tr>\n",
              "      <th>21</th>\n",
              "      <td>1052148</td>\n",
              "      <td>1123</td>\n",
              "      <td>17</td>\n",
              "      <td>B</td>\n",
              "      <td>15</td>\n",
              "      <td>L</td>\n",
              "      <td>4.0</td>\n",
              "      <td>2019-04-11T17:00:00.000Z</td>\n",
              "      <td>2019-04-11T17:00:00.000Z</td>\n",
              "      <td>2</td>\n",
              "      <td>...</td>\n",
              "      <td>3</td>\n",
              "      <td>None</td>\n",
              "      <td>None</td>\n",
              "      <td>None</td>\n",
              "      <td>None</td>\n",
              "      <td>None</td>\n",
              "      <td>0</td>\n",
              "      <td>M25.6</td>\n",
              "      <td>1.0</td>\n",
              "      <td>93.35</td>\n",
              "    </tr>\n",
              "    <tr>\n",
              "      <th>22</th>\n",
              "      <td>998994</td>\n",
              "      <td>1289</td>\n",
              "      <td>17</td>\n",
              "      <td>A</td>\n",
              "      <td>37</td>\n",
              "      <td>P</td>\n",
              "      <td>1.0</td>\n",
              "      <td>2019-02-11T17:00:00.000Z</td>\n",
              "      <td>2019-02-11T17:00:00.000Z</td>\n",
              "      <td>2</td>\n",
              "      <td>...</td>\n",
              "      <td>3</td>\n",
              "      <td>None</td>\n",
              "      <td>None</td>\n",
              "      <td>None</td>\n",
              "      <td>None</td>\n",
              "      <td>None</td>\n",
              "      <td>0</td>\n",
              "      <td>J45.9</td>\n",
              "      <td>1.0</td>\n",
              "      <td>93.94</td>\n",
              "    </tr>\n",
              "  </tbody>\n",
              "</table>\n",
              "<p>5 rows × 25 columns</p>\n",
              "</div>\n",
              "      <button class=\"colab-df-convert\" onclick=\"convertToInteractive('df-c8909afc-6093-467b-953b-15d071140688')\"\n",
              "              title=\"Convert this dataframe to an interactive table.\"\n",
              "              style=\"display:none;\">\n",
              "        \n",
              "  <svg xmlns=\"http://www.w3.org/2000/svg\" height=\"24px\"viewBox=\"0 0 24 24\"\n",
              "       width=\"24px\">\n",
              "    <path d=\"M0 0h24v24H0V0z\" fill=\"none\"/>\n",
              "    <path d=\"M18.56 5.44l.94 2.06.94-2.06 2.06-.94-2.06-.94-.94-2.06-.94 2.06-2.06.94zm-11 1L8.5 8.5l.94-2.06 2.06-.94-2.06-.94L8.5 2.5l-.94 2.06-2.06.94zm10 10l.94 2.06.94-2.06 2.06-.94-2.06-.94-.94-2.06-.94 2.06-2.06.94z\"/><path d=\"M17.41 7.96l-1.37-1.37c-.4-.4-.92-.59-1.43-.59-.52 0-1.04.2-1.43.59L10.3 9.45l-7.72 7.72c-.78.78-.78 2.05 0 2.83L4 21.41c.39.39.9.59 1.41.59.51 0 1.02-.2 1.41-.59l7.78-7.78 2.81-2.81c.8-.78.8-2.07 0-2.86zM5.41 20L4 18.59l7.72-7.72 1.47 1.35L5.41 20z\"/>\n",
              "  </svg>\n",
              "      </button>\n",
              "      \n",
              "  <style>\n",
              "    .colab-df-container {\n",
              "      display:flex;\n",
              "      flex-wrap:wrap;\n",
              "      gap: 12px;\n",
              "    }\n",
              "\n",
              "    .colab-df-convert {\n",
              "      background-color: #E8F0FE;\n",
              "      border: none;\n",
              "      border-radius: 50%;\n",
              "      cursor: pointer;\n",
              "      display: none;\n",
              "      fill: #1967D2;\n",
              "      height: 32px;\n",
              "      padding: 0 0 0 0;\n",
              "      width: 32px;\n",
              "    }\n",
              "\n",
              "    .colab-df-convert:hover {\n",
              "      background-color: #E2EBFA;\n",
              "      box-shadow: 0px 1px 2px rgba(60, 64, 67, 0.3), 0px 1px 3px 1px rgba(60, 64, 67, 0.15);\n",
              "      fill: #174EA6;\n",
              "    }\n",
              "\n",
              "    [theme=dark] .colab-df-convert {\n",
              "      background-color: #3B4455;\n",
              "      fill: #D2E3FC;\n",
              "    }\n",
              "\n",
              "    [theme=dark] .colab-df-convert:hover {\n",
              "      background-color: #434B5C;\n",
              "      box-shadow: 0px 1px 3px 1px rgba(0, 0, 0, 0.15);\n",
              "      filter: drop-shadow(0px 1px 2px rgba(0, 0, 0, 0.3));\n",
              "      fill: #FFFFFF;\n",
              "    }\n",
              "  </style>\n",
              "\n",
              "      <script>\n",
              "        const buttonEl =\n",
              "          document.querySelector('#df-c8909afc-6093-467b-953b-15d071140688 button.colab-df-convert');\n",
              "        buttonEl.style.display =\n",
              "          google.colab.kernel.accessAllowed ? 'block' : 'none';\n",
              "\n",
              "        async function convertToInteractive(key) {\n",
              "          const element = document.querySelector('#df-c8909afc-6093-467b-953b-15d071140688');\n",
              "          const dataTable =\n",
              "            await google.colab.kernel.invokeFunction('convertToInteractive',\n",
              "                                                     [key], {});\n",
              "          if (!dataTable) return;\n",
              "\n",
              "          const docLinkHtml = 'Like what you see? Visit the ' +\n",
              "            '<a target=\"_blank\" href=https://colab.research.google.com/notebooks/data_table.ipynb>data table notebook</a>'\n",
              "            + ' to learn more about interactive tables.';\n",
              "          element.innerHTML = '';\n",
              "          dataTable['output_type'] = 'display_data';\n",
              "          await google.colab.output.renderOutput(dataTable, element);\n",
              "          const docLink = document.createElement('div');\n",
              "          docLink.innerHTML = docLinkHtml;\n",
              "          element.appendChild(docLink);\n",
              "        }\n",
              "      </script>\n",
              "    </div>\n",
              "  </div>\n",
              "  "
            ]
          },
          "metadata": {},
          "execution_count": 30
        }
      ],
      "source": [
        "df_bpjs_clean.head()"
      ]
    },
    {
      "cell_type": "code",
      "execution_count": null,
      "metadata": {
        "id": "Lk2-aoth9Shk",
        "colab": {
          "base_uri": "https://localhost:8080/"
        },
        "outputId": "8a50d62a-435d-4678-f400-afa91303e95a"
      },
      "outputs": [
        {
          "output_type": "execute_result",
          "data": {
            "text/plain": [
              "(6208074, 25)"
            ]
          },
          "metadata": {},
          "execution_count": 31
        }
      ],
      "source": [
        "df_bpjs_clean.shape"
      ]
    },
    {
      "cell_type": "code",
      "execution_count": null,
      "metadata": {
        "id": "15J63eWyEE3U",
        "colab": {
          "base_uri": "https://localhost:8080/"
        },
        "outputId": "a217ccef-d16a-41e5-d829-25aa433a6d1f"
      },
      "outputs": [
        {
          "output_type": "execute_result",
          "data": {
            "text/plain": [
              "1.0    2996128\n",
              "3.0    1467932\n",
              "4.0    1364367\n",
              "5.0     219069\n",
              "2.0     160578\n",
              "Name: pisat, dtype: int64"
            ]
          },
          "metadata": {},
          "execution_count": 32
        }
      ],
      "source": [
        "df_bpjs_clean[\"pisat\"].value_counts()"
      ]
    },
    {
      "cell_type": "markdown",
      "metadata": {
        "collapsed": false,
        "id": "p28zyazqEE3V"
      },
      "source": [
        "## Cleaning Data"
      ]
    },
    {
      "cell_type": "markdown",
      "source": [
        "#### 1. Categorical Variabels"
      ],
      "metadata": {
        "id": "3W5WI-LaRtXU"
      }
    },
    {
      "cell_type": "code",
      "execution_count": null,
      "metadata": {
        "id": "nfWyxVuPEE3V",
        "colab": {
          "base_uri": "https://localhost:8080/"
        },
        "outputId": "304fefe7-564e-4674-8084-d7de3f29f766"
      },
      "outputs": [
        {
          "output_type": "stream",
          "name": "stdout",
          "text": [
            "<class 'pandas.core.frame.DataFrame'>\n",
            "Int64Index: 6208074 entries, 11 to 11242497\n",
            "Data columns (total 25 columns):\n",
            " #   Column       Dtype  \n",
            "---  ------       -----  \n",
            " 0   id           int64  \n",
            " 1   id_peserta   int64  \n",
            " 2   dati2        int64  \n",
            " 3   typefaskes   object \n",
            " 4   usia         int64  \n",
            " 5   jenkel       object \n",
            " 6   pisat        float64\n",
            " 7   tgldatang    object \n",
            " 8   tglpulang    object \n",
            " 9   jenispel     int64  \n",
            " 10  politujuan   object \n",
            " 11  diagfktp     object \n",
            " 12  biaya        float64\n",
            " 13  jenispulang  float64\n",
            " 14  cbg          object \n",
            " 15  kelasrawat   int64  \n",
            " 16  kdsa         object \n",
            " 17  kdsp         object \n",
            " 18  kdsr         object \n",
            " 19  kdsi         object \n",
            " 20  kdsd         object \n",
            " 21  label        int64  \n",
            " 22  diag         object \n",
            " 23  levelid      float64\n",
            " 24  proc         object \n",
            "dtypes: float64(4), int64(7), object(14)\n",
            "memory usage: 1.2+ GB\n"
          ]
        }
      ],
      "source": [
        "df_bpjs_clean.info()"
      ]
    },
    {
      "cell_type": "code",
      "execution_count": null,
      "metadata": {
        "id": "VsJAahhtEE3X"
      },
      "outputs": [],
      "source": [
        "# labelencoder untuk kolom bertipe kategorikal\n",
        "labelencoder = LabelEncoder()\n",
        "df_bpjs_clean[\"typefaskes\"] = labelencoder.fit_transform(df_bpjs_clean[\"typefaskes\"])\n",
        "df_bpjs_clean[\"jenkel\"] = labelencoder.fit_transform(df_bpjs_clean[\"jenkel\"])\n",
        "df_bpjs_clean[\"politujuan\"] = labelencoder.fit_transform(df_bpjs_clean[\"politujuan\"])\n",
        "df_bpjs_clean[\"diagfktp\"] = labelencoder.fit_transform(df_bpjs_clean[\"diagfktp\"])\n",
        "df_bpjs_clean[\"cbg\"] = labelencoder.fit_transform(df_bpjs_clean[\"cbg\"])\n",
        "df_bpjs_clean[\"kdsa\"] = labelencoder.fit_transform(df_bpjs_clean[\"kdsa\"])\n",
        "df_bpjs_clean[\"kdsp\"] = labelencoder.fit_transform(df_bpjs_clean[\"kdsp\"])\n",
        "df_bpjs_clean[\"kdsr\"] = labelencoder.fit_transform(df_bpjs_clean[\"kdsr\"])\n",
        "df_bpjs_clean[\"kdsi\"] = labelencoder.fit_transform(df_bpjs_clean[\"kdsi\"])\n",
        "df_bpjs_clean[\"kdsd\"] = labelencoder.fit_transform(df_bpjs_clean[\"kdsd\"])"
      ]
    },
    {
      "cell_type": "markdown",
      "metadata": {
        "collapsed": false,
        "id": "jLAdihpLEE3X"
      },
      "source": [
        "Diagnose reference: [ICD-10 Version 2016](https://icd.who.int/browse10/2016/en)\n",
        "Procedure reference: [ICD-9-CM](http://www.icd9data.com/2012/Volume3/default.htm)"
      ]
    },
    {
      "cell_type": "code",
      "execution_count": null,
      "metadata": {
        "id": "PjbiiyO_EE3Y"
      },
      "outputs": [],
      "source": [
        "import re\n",
        "\n",
        "dict_diag = {\"A\":1, \"B\":1, \"C\":2, \"D\":[2,3], \"E\":4, \"F\": 5,\n",
        "             \"G\":6, \"H\":[7,8], \"I\":9, \"J\":10, \"K\":11, \"L\": 12,\n",
        "             \"M\":13, \"N\":14, \"O\":15, \"P\":16, \"Q\":17, \"R\": 18,\n",
        "             \"S\":19, \"T\":19, \"U\":22, \"V\":20, \"W\":20, \"X\": 20,\n",
        "             \"Y\":20, \"Z\":21}"
      ]
    },
    {
      "cell_type": "code",
      "execution_count": null,
      "metadata": {
        "id": "Ah0bFHfbEE3Z"
      },
      "outputs": [],
      "source": [
        "from range_key_dict import RangeKeyDict\n",
        "\n",
        "dict_proc = RangeKeyDict({\n",
        "    (0, 1): 1, (1, 6): 2, (6, 8): 3, (8, 17): 4, (17, 18): 5,\n",
        "    (18, 21): 6, (21, 30): 7, (30, 35): 8, (35, 40): 9, (40, 42): 10,\n",
        "    (42, 55): 11, (55, 60): 12, (60, 65): 13, (65, 72): 14, (72, 76): 15,\n",
        "    (76, 85): 16, (85, 100): 17\n",
        "})\n",
        "def convert_proc(icd):\n",
        "    icd = float(icd)\n",
        "    return dict_proc[icd]"
      ]
    },
    {
      "cell_type": "code",
      "execution_count": null,
      "metadata": {
        "id": "TySqAu1JEE3Z"
      },
      "outputs": [],
      "source": [
        "def convert_diag(icd):\n",
        "    icd = list(filter(None, re.split(r'(\\d+)', icd)))\n",
        "\n",
        "    if icd[0] in dict_diag:\n",
        "        icd[1] = int(icd[1])\n",
        "        # check if diag is less than 48\n",
        "        if icd[0] == \"D\":\n",
        "            if icd[1] <= 48:\n",
        "                return dict_diag[\"D\"][0]\n",
        "            else:\n",
        "                return dict_diag[\"D\"][1]\n",
        "\n",
        "        # check if diag is less than 48\n",
        "        if icd[0] == \"H\":\n",
        "            if icd[1] <= 59:\n",
        "                return dict_diag[\"H\"][0]\n",
        "            else:\n",
        "                return dict_diag[\"H\"][1]\n",
        "\n",
        "        return dict_diag[icd[0]]\n",
        "    return np.nan"
      ]
    },
    {
      "cell_type": "code",
      "execution_count": null,
      "metadata": {
        "id": "UMl_Zl_MEE3a"
      },
      "outputs": [],
      "source": [
        "df_bpjs_clean[\"diag\"] = df_bpjs_clean[\"diag\"].map(convert_diag)"
      ]
    },
    {
      "cell_type": "code",
      "execution_count": null,
      "metadata": {
        "id": "sNYTEOVOEE3a"
      },
      "outputs": [],
      "source": [
        "df_bpjs_clean['proc'] = df_bpjs_clean['proc'].map(convert_proc)"
      ]
    },
    {
      "cell_type": "code",
      "execution_count": null,
      "metadata": {
        "id": "HsuqAeD9EE3b",
        "colab": {
          "base_uri": "https://localhost:8080/"
        },
        "outputId": "77f84d24-f282-437f-db0f-dbe852cacae3"
      },
      "outputs": [
        {
          "output_type": "execute_result",
          "data": {
            "text/plain": [
              "7.0     665876\n",
              "13.0    533019\n",
              "21.0    481613\n",
              "8.0     426455\n",
              "14.0    399964\n",
              "19.0    392445\n",
              "18.0    379510\n",
              "11.0    372148\n",
              "9.0     360991\n",
              "5.0     316992\n",
              "10.0    304513\n",
              "6.0     301731\n",
              "4.0     271138\n",
              "2.0     227472\n",
              "3.0     178046\n",
              "12.0    155283\n",
              "17.0    138235\n",
              "1.0     132425\n",
              "15.0    108783\n",
              "20.0     44028\n",
              "16.0     17236\n",
              "22.0        86\n",
              "Name: diag, dtype: int64"
            ]
          },
          "metadata": {},
          "execution_count": 40
        }
      ],
      "source": [
        "#todo konversi diag sesuai dengan referensi ICD-10\n",
        "df_bpjs_clean[\"diag\"].value_counts()"
      ]
    },
    {
      "cell_type": "code",
      "execution_count": null,
      "metadata": {
        "id": "02vzPhmjEE3b",
        "colab": {
          "base_uri": "https://localhost:8080/"
        },
        "outputId": "4ed36cac-98d5-440d-f116-7a9793b876b3"
      },
      "outputs": [
        {
          "output_type": "execute_result",
          "data": {
            "text/plain": [
              "17    5459689\n",
              "9      206383\n",
              "7      189135\n",
              "4      179345\n",
              "6       66000\n",
              "16      39839\n",
              "12      34565\n",
              "8        7724\n",
              "2        6126\n",
              "15       5329\n",
              "11       4524\n",
              "14       2693\n",
              "10       2558\n",
              "3        2206\n",
              "1        1331\n",
              "5         356\n",
              "13        271\n",
              "Name: proc, dtype: int64"
            ]
          },
          "metadata": {},
          "execution_count": 41
        }
      ],
      "source": [
        "#todo konversi proc sesuai dengan referensi ICD-9-CM\n",
        "df_bpjs_clean[\"proc\"].value_counts()"
      ]
    },
    {
      "cell_type": "code",
      "execution_count": null,
      "metadata": {
        "id": "g2H6c62BEE3c",
        "colab": {
          "base_uri": "https://localhost:8080/",
          "height": 299
        },
        "outputId": "43a3b828-495f-4f27-8a54-6f254aee1d79"
      },
      "outputs": [
        {
          "output_type": "execute_result",
          "data": {
            "text/plain": [
              "         id  id_peserta  dati2  typefaskes  usia  jenkel  pisat  \\\n",
              "11   143197         736     17          13    46       1    1.0   \n",
              "15  1057379         751     17           1    60       0    1.0   \n",
              "20  1052148        1123     17           1    15       0    4.0   \n",
              "21  1052148        1123     17           1    15       0    4.0   \n",
              "22   998994        1289     17           0    37       1    1.0   \n",
              "\n",
              "                   tgldatang                 tglpulang  jenispel  ...  \\\n",
              "11  2020-04-19T17:00:00.000Z  2020-04-19T17:00:00.000Z         2  ...   \n",
              "15  2019-10-08T17:00:00.000Z  2019-10-08T17:00:00.000Z         2  ...   \n",
              "20  2019-04-11T17:00:00.000Z  2019-04-11T17:00:00.000Z         2  ...   \n",
              "21  2019-04-11T17:00:00.000Z  2019-04-11T17:00:00.000Z         2  ...   \n",
              "22  2019-02-11T17:00:00.000Z  2019-02-11T17:00:00.000Z         2  ...   \n",
              "\n",
              "    kelasrawat  kdsa  kdsp  kdsr  kdsi  kdsd  label  diag  levelid  proc  \n",
              "11           3     0     0     0     3     6      0   1.0      1.0    17  \n",
              "15           3     0     0     0     3     6      0  11.0      1.0    17  \n",
              "20           3     0     0     0     3     6      0  13.0      1.0    17  \n",
              "21           3     0     0     0     3     6      0  13.0      1.0    17  \n",
              "22           3     0     0     0     3     6      0  10.0      1.0    17  \n",
              "\n",
              "[5 rows x 25 columns]"
            ],
            "text/html": [
              "\n",
              "  <div id=\"df-44bd2696-36b9-4327-952c-931840d2ec6e\">\n",
              "    <div class=\"colab-df-container\">\n",
              "      <div>\n",
              "<style scoped>\n",
              "    .dataframe tbody tr th:only-of-type {\n",
              "        vertical-align: middle;\n",
              "    }\n",
              "\n",
              "    .dataframe tbody tr th {\n",
              "        vertical-align: top;\n",
              "    }\n",
              "\n",
              "    .dataframe thead th {\n",
              "        text-align: right;\n",
              "    }\n",
              "</style>\n",
              "<table border=\"1\" class=\"dataframe\">\n",
              "  <thead>\n",
              "    <tr style=\"text-align: right;\">\n",
              "      <th></th>\n",
              "      <th>id</th>\n",
              "      <th>id_peserta</th>\n",
              "      <th>dati2</th>\n",
              "      <th>typefaskes</th>\n",
              "      <th>usia</th>\n",
              "      <th>jenkel</th>\n",
              "      <th>pisat</th>\n",
              "      <th>tgldatang</th>\n",
              "      <th>tglpulang</th>\n",
              "      <th>jenispel</th>\n",
              "      <th>...</th>\n",
              "      <th>kelasrawat</th>\n",
              "      <th>kdsa</th>\n",
              "      <th>kdsp</th>\n",
              "      <th>kdsr</th>\n",
              "      <th>kdsi</th>\n",
              "      <th>kdsd</th>\n",
              "      <th>label</th>\n",
              "      <th>diag</th>\n",
              "      <th>levelid</th>\n",
              "      <th>proc</th>\n",
              "    </tr>\n",
              "  </thead>\n",
              "  <tbody>\n",
              "    <tr>\n",
              "      <th>11</th>\n",
              "      <td>143197</td>\n",
              "      <td>736</td>\n",
              "      <td>17</td>\n",
              "      <td>13</td>\n",
              "      <td>46</td>\n",
              "      <td>1</td>\n",
              "      <td>1.0</td>\n",
              "      <td>2020-04-19T17:00:00.000Z</td>\n",
              "      <td>2020-04-19T17:00:00.000Z</td>\n",
              "      <td>2</td>\n",
              "      <td>...</td>\n",
              "      <td>3</td>\n",
              "      <td>0</td>\n",
              "      <td>0</td>\n",
              "      <td>0</td>\n",
              "      <td>3</td>\n",
              "      <td>6</td>\n",
              "      <td>0</td>\n",
              "      <td>1.0</td>\n",
              "      <td>1.0</td>\n",
              "      <td>17</td>\n",
              "    </tr>\n",
              "    <tr>\n",
              "      <th>15</th>\n",
              "      <td>1057379</td>\n",
              "      <td>751</td>\n",
              "      <td>17</td>\n",
              "      <td>1</td>\n",
              "      <td>60</td>\n",
              "      <td>0</td>\n",
              "      <td>1.0</td>\n",
              "      <td>2019-10-08T17:00:00.000Z</td>\n",
              "      <td>2019-10-08T17:00:00.000Z</td>\n",
              "      <td>2</td>\n",
              "      <td>...</td>\n",
              "      <td>3</td>\n",
              "      <td>0</td>\n",
              "      <td>0</td>\n",
              "      <td>0</td>\n",
              "      <td>3</td>\n",
              "      <td>6</td>\n",
              "      <td>0</td>\n",
              "      <td>11.0</td>\n",
              "      <td>1.0</td>\n",
              "      <td>17</td>\n",
              "    </tr>\n",
              "    <tr>\n",
              "      <th>20</th>\n",
              "      <td>1052148</td>\n",
              "      <td>1123</td>\n",
              "      <td>17</td>\n",
              "      <td>1</td>\n",
              "      <td>15</td>\n",
              "      <td>0</td>\n",
              "      <td>4.0</td>\n",
              "      <td>2019-04-11T17:00:00.000Z</td>\n",
              "      <td>2019-04-11T17:00:00.000Z</td>\n",
              "      <td>2</td>\n",
              "      <td>...</td>\n",
              "      <td>3</td>\n",
              "      <td>0</td>\n",
              "      <td>0</td>\n",
              "      <td>0</td>\n",
              "      <td>3</td>\n",
              "      <td>6</td>\n",
              "      <td>0</td>\n",
              "      <td>13.0</td>\n",
              "      <td>1.0</td>\n",
              "      <td>17</td>\n",
              "    </tr>\n",
              "    <tr>\n",
              "      <th>21</th>\n",
              "      <td>1052148</td>\n",
              "      <td>1123</td>\n",
              "      <td>17</td>\n",
              "      <td>1</td>\n",
              "      <td>15</td>\n",
              "      <td>0</td>\n",
              "      <td>4.0</td>\n",
              "      <td>2019-04-11T17:00:00.000Z</td>\n",
              "      <td>2019-04-11T17:00:00.000Z</td>\n",
              "      <td>2</td>\n",
              "      <td>...</td>\n",
              "      <td>3</td>\n",
              "      <td>0</td>\n",
              "      <td>0</td>\n",
              "      <td>0</td>\n",
              "      <td>3</td>\n",
              "      <td>6</td>\n",
              "      <td>0</td>\n",
              "      <td>13.0</td>\n",
              "      <td>1.0</td>\n",
              "      <td>17</td>\n",
              "    </tr>\n",
              "    <tr>\n",
              "      <th>22</th>\n",
              "      <td>998994</td>\n",
              "      <td>1289</td>\n",
              "      <td>17</td>\n",
              "      <td>0</td>\n",
              "      <td>37</td>\n",
              "      <td>1</td>\n",
              "      <td>1.0</td>\n",
              "      <td>2019-02-11T17:00:00.000Z</td>\n",
              "      <td>2019-02-11T17:00:00.000Z</td>\n",
              "      <td>2</td>\n",
              "      <td>...</td>\n",
              "      <td>3</td>\n",
              "      <td>0</td>\n",
              "      <td>0</td>\n",
              "      <td>0</td>\n",
              "      <td>3</td>\n",
              "      <td>6</td>\n",
              "      <td>0</td>\n",
              "      <td>10.0</td>\n",
              "      <td>1.0</td>\n",
              "      <td>17</td>\n",
              "    </tr>\n",
              "  </tbody>\n",
              "</table>\n",
              "<p>5 rows × 25 columns</p>\n",
              "</div>\n",
              "      <button class=\"colab-df-convert\" onclick=\"convertToInteractive('df-44bd2696-36b9-4327-952c-931840d2ec6e')\"\n",
              "              title=\"Convert this dataframe to an interactive table.\"\n",
              "              style=\"display:none;\">\n",
              "        \n",
              "  <svg xmlns=\"http://www.w3.org/2000/svg\" height=\"24px\"viewBox=\"0 0 24 24\"\n",
              "       width=\"24px\">\n",
              "    <path d=\"M0 0h24v24H0V0z\" fill=\"none\"/>\n",
              "    <path d=\"M18.56 5.44l.94 2.06.94-2.06 2.06-.94-2.06-.94-.94-2.06-.94 2.06-2.06.94zm-11 1L8.5 8.5l.94-2.06 2.06-.94-2.06-.94L8.5 2.5l-.94 2.06-2.06.94zm10 10l.94 2.06.94-2.06 2.06-.94-2.06-.94-.94-2.06-.94 2.06-2.06.94z\"/><path d=\"M17.41 7.96l-1.37-1.37c-.4-.4-.92-.59-1.43-.59-.52 0-1.04.2-1.43.59L10.3 9.45l-7.72 7.72c-.78.78-.78 2.05 0 2.83L4 21.41c.39.39.9.59 1.41.59.51 0 1.02-.2 1.41-.59l7.78-7.78 2.81-2.81c.8-.78.8-2.07 0-2.86zM5.41 20L4 18.59l7.72-7.72 1.47 1.35L5.41 20z\"/>\n",
              "  </svg>\n",
              "      </button>\n",
              "      \n",
              "  <style>\n",
              "    .colab-df-container {\n",
              "      display:flex;\n",
              "      flex-wrap:wrap;\n",
              "      gap: 12px;\n",
              "    }\n",
              "\n",
              "    .colab-df-convert {\n",
              "      background-color: #E8F0FE;\n",
              "      border: none;\n",
              "      border-radius: 50%;\n",
              "      cursor: pointer;\n",
              "      display: none;\n",
              "      fill: #1967D2;\n",
              "      height: 32px;\n",
              "      padding: 0 0 0 0;\n",
              "      width: 32px;\n",
              "    }\n",
              "\n",
              "    .colab-df-convert:hover {\n",
              "      background-color: #E2EBFA;\n",
              "      box-shadow: 0px 1px 2px rgba(60, 64, 67, 0.3), 0px 1px 3px 1px rgba(60, 64, 67, 0.15);\n",
              "      fill: #174EA6;\n",
              "    }\n",
              "\n",
              "    [theme=dark] .colab-df-convert {\n",
              "      background-color: #3B4455;\n",
              "      fill: #D2E3FC;\n",
              "    }\n",
              "\n",
              "    [theme=dark] .colab-df-convert:hover {\n",
              "      background-color: #434B5C;\n",
              "      box-shadow: 0px 1px 3px 1px rgba(0, 0, 0, 0.15);\n",
              "      filter: drop-shadow(0px 1px 2px rgba(0, 0, 0, 0.3));\n",
              "      fill: #FFFFFF;\n",
              "    }\n",
              "  </style>\n",
              "\n",
              "      <script>\n",
              "        const buttonEl =\n",
              "          document.querySelector('#df-44bd2696-36b9-4327-952c-931840d2ec6e button.colab-df-convert');\n",
              "        buttonEl.style.display =\n",
              "          google.colab.kernel.accessAllowed ? 'block' : 'none';\n",
              "\n",
              "        async function convertToInteractive(key) {\n",
              "          const element = document.querySelector('#df-44bd2696-36b9-4327-952c-931840d2ec6e');\n",
              "          const dataTable =\n",
              "            await google.colab.kernel.invokeFunction('convertToInteractive',\n",
              "                                                     [key], {});\n",
              "          if (!dataTable) return;\n",
              "\n",
              "          const docLinkHtml = 'Like what you see? Visit the ' +\n",
              "            '<a target=\"_blank\" href=https://colab.research.google.com/notebooks/data_table.ipynb>data table notebook</a>'\n",
              "            + ' to learn more about interactive tables.';\n",
              "          element.innerHTML = '';\n",
              "          dataTable['output_type'] = 'display_data';\n",
              "          await google.colab.output.renderOutput(dataTable, element);\n",
              "          const docLink = document.createElement('div');\n",
              "          docLink.innerHTML = docLinkHtml;\n",
              "          element.appendChild(docLink);\n",
              "        }\n",
              "      </script>\n",
              "    </div>\n",
              "  </div>\n",
              "  "
            ]
          },
          "metadata": {},
          "execution_count": 42
        }
      ],
      "source": [
        "df_bpjs_clean.head()"
      ]
    },
    {
      "cell_type": "code",
      "execution_count": null,
      "metadata": {
        "id": "euF1BdacEE3d",
        "colab": {
          "base_uri": "https://localhost:8080/"
        },
        "outputId": "a690b519-a95d-4220-8418-4064d2acddc4"
      },
      "outputs": [
        {
          "output_type": "stream",
          "name": "stdout",
          "text": [
            "<class 'pandas.core.frame.DataFrame'>\n",
            "Int64Index: 6208074 entries, 11 to 11242497\n",
            "Data columns (total 25 columns):\n",
            " #   Column       Non-Null Count    Dtype  \n",
            "---  ------       --------------    -----  \n",
            " 0   id           6208074 non-null  int64  \n",
            " 1   id_peserta   6208074 non-null  int64  \n",
            " 2   dati2        6208074 non-null  int64  \n",
            " 3   typefaskes   6208074 non-null  int64  \n",
            " 4   usia         6208074 non-null  int64  \n",
            " 5   jenkel       6208074 non-null  int64  \n",
            " 6   pisat        6208074 non-null  float64\n",
            " 7   tgldatang    6208074 non-null  object \n",
            " 8   tglpulang    6208074 non-null  object \n",
            " 9   jenispel     6208074 non-null  int64  \n",
            " 10  politujuan   6208074 non-null  int64  \n",
            " 11  diagfktp     6208074 non-null  int64  \n",
            " 12  biaya        6208074 non-null  float64\n",
            " 13  jenispulang  6208074 non-null  float64\n",
            " 14  cbg          6208074 non-null  int64  \n",
            " 15  kelasrawat   6208074 non-null  int64  \n",
            " 16  kdsa         6208074 non-null  int64  \n",
            " 17  kdsp         6208074 non-null  int64  \n",
            " 18  kdsr         6208074 non-null  int64  \n",
            " 19  kdsi         6208074 non-null  int64  \n",
            " 20  kdsd         6208074 non-null  int64  \n",
            " 21  label        6208074 non-null  int64  \n",
            " 22  diag         6207989 non-null  float64\n",
            " 23  levelid      6208074 non-null  float64\n",
            " 24  proc         6208074 non-null  int64  \n",
            "dtypes: float64(5), int64(18), object(2)\n",
            "memory usage: 1.2+ GB\n"
          ]
        }
      ],
      "source": [
        "# Hasil setelah cleaning\n",
        "df_bpjs_clean.info(verbose=True,show_counts=True)"
      ]
    },
    {
      "cell_type": "code",
      "execution_count": null,
      "metadata": {
        "id": "fZzmFoBFEE3d"
      },
      "outputs": [],
      "source": [
        "# membuat kolom lama_kunjungan\n",
        "df_bpjs_clean['tgldatang'] = df_bpjs_clean['tgldatang'].str[0:10]\n",
        "df_bpjs_clean['tglpulang'] = df_bpjs_clean['tglpulang'].str[0:10]"
      ]
    },
    {
      "cell_type": "code",
      "execution_count": null,
      "metadata": {
        "id": "roGXxyQyEE3d",
        "colab": {
          "base_uri": "https://localhost:8080/"
        },
        "outputId": "a89f1027-059f-4aa6-a541-6278522dc1e7"
      },
      "outputs": [
        {
          "output_type": "stream",
          "name": "stdout",
          "text": [
            "<class 'pandas.core.frame.DataFrame'>\n",
            "Int64Index: 6208074 entries, 11 to 11242497\n",
            "Data columns (total 1 columns):\n",
            " #   Column  Dtype          \n",
            "---  ------  -----          \n",
            " 0   waktu   timedelta64[ns]\n",
            "dtypes: timedelta64[ns](1)\n",
            "memory usage: 94.7 MB\n"
          ]
        }
      ],
      "source": [
        "df_bpjs_clean['tgldatang'] = pd.to_datetime(df_bpjs_clean['tgldatang'])\n",
        "df_bpjs_clean['tglpulang'] = pd.to_datetime(df_bpjs_clean['tglpulang'])\n",
        "\n",
        "days = df_bpjs_clean['tglpulang'] - df_bpjs_clean['tgldatang']\n",
        "days = pd.DataFrame(days, columns=['waktu'])\n",
        "days.info()"
      ]
    },
    {
      "cell_type": "code",
      "execution_count": null,
      "metadata": {
        "id": "8kFJVpuHEE3e"
      },
      "outputs": [],
      "source": [
        "df_bpjs_clean['lama_kunjung'] = days['waktu'].dt.days"
      ]
    },
    {
      "cell_type": "code",
      "execution_count": null,
      "metadata": {
        "id": "g9uYnYOmEE3e",
        "colab": {
          "base_uri": "https://localhost:8080/",
          "height": 456
        },
        "outputId": "464f8768-1c28-4f61-c969-c23a7e54d5fb"
      },
      "outputs": [
        {
          "output_type": "execute_result",
          "data": {
            "text/plain": [
              "         id  id_peserta  dati2  typefaskes  usia  jenkel  pisat  tgldatang  \\\n",
              "11   143197         736     17          13    46       1    1.0 2020-04-19   \n",
              "15  1057379         751     17           1    60       0    1.0 2019-10-08   \n",
              "20  1052148        1123     17           1    15       0    4.0 2019-04-11   \n",
              "21  1052148        1123     17           1    15       0    4.0 2019-04-11   \n",
              "22   998994        1289     17           0    37       1    1.0 2019-02-11   \n",
              "23  1036784        1300     17           7    51       1    3.0 2018-01-04   \n",
              "35   995454        1615     17           0    64       0    1.0 2019-01-29   \n",
              "37   164389        1682     17          15    59       1    3.0 2020-05-04   \n",
              "38   164389        1682     17          15    59       1    3.0 2020-05-04   \n",
              "39  1054980        1687     17           1    51       1    1.0 2018-08-14   \n",
              "\n",
              "    tglpulang  jenispel  ...  kdsa  kdsp  kdsr  kdsi  kdsd  label  diag  \\\n",
              "11 2020-04-19         2  ...     0     0     0     3     6      0   1.0   \n",
              "15 2019-10-08         2  ...     0     0     0     3     6      0  11.0   \n",
              "20 2019-04-11         2  ...     0     0     0     3     6      0  13.0   \n",
              "21 2019-04-11         2  ...     0     0     0     3     6      0  13.0   \n",
              "22 2019-02-11         2  ...     0     0     0     3     6      0  10.0   \n",
              "23 2018-01-04         2  ...     0     0     0     3     6      0  14.0   \n",
              "35 2019-01-29         2  ...     0     0     0     1     6      0  13.0   \n",
              "37 2020-05-04         2  ...     0     0     0     3     6      0   9.0   \n",
              "38 2020-05-04         2  ...     0     0     0     3     6      0   9.0   \n",
              "39 2018-08-14         2  ...     0     0     0     3     6      0  13.0   \n",
              "\n",
              "    levelid  proc  lama_kunjung  \n",
              "11      1.0    17             0  \n",
              "15      1.0    17             0  \n",
              "20      1.0    17             0  \n",
              "21      1.0    17             0  \n",
              "22      1.0    17             0  \n",
              "23      1.0    17             0  \n",
              "35      1.0    17             0  \n",
              "37      2.0    17             0  \n",
              "38      1.0    17             0  \n",
              "39      1.0    17             0  \n",
              "\n",
              "[10 rows x 26 columns]"
            ],
            "text/html": [
              "\n",
              "  <div id=\"df-b846cde1-3d2e-4db0-8f78-fc208ad805bf\">\n",
              "    <div class=\"colab-df-container\">\n",
              "      <div>\n",
              "<style scoped>\n",
              "    .dataframe tbody tr th:only-of-type {\n",
              "        vertical-align: middle;\n",
              "    }\n",
              "\n",
              "    .dataframe tbody tr th {\n",
              "        vertical-align: top;\n",
              "    }\n",
              "\n",
              "    .dataframe thead th {\n",
              "        text-align: right;\n",
              "    }\n",
              "</style>\n",
              "<table border=\"1\" class=\"dataframe\">\n",
              "  <thead>\n",
              "    <tr style=\"text-align: right;\">\n",
              "      <th></th>\n",
              "      <th>id</th>\n",
              "      <th>id_peserta</th>\n",
              "      <th>dati2</th>\n",
              "      <th>typefaskes</th>\n",
              "      <th>usia</th>\n",
              "      <th>jenkel</th>\n",
              "      <th>pisat</th>\n",
              "      <th>tgldatang</th>\n",
              "      <th>tglpulang</th>\n",
              "      <th>jenispel</th>\n",
              "      <th>...</th>\n",
              "      <th>kdsa</th>\n",
              "      <th>kdsp</th>\n",
              "      <th>kdsr</th>\n",
              "      <th>kdsi</th>\n",
              "      <th>kdsd</th>\n",
              "      <th>label</th>\n",
              "      <th>diag</th>\n",
              "      <th>levelid</th>\n",
              "      <th>proc</th>\n",
              "      <th>lama_kunjung</th>\n",
              "    </tr>\n",
              "  </thead>\n",
              "  <tbody>\n",
              "    <tr>\n",
              "      <th>11</th>\n",
              "      <td>143197</td>\n",
              "      <td>736</td>\n",
              "      <td>17</td>\n",
              "      <td>13</td>\n",
              "      <td>46</td>\n",
              "      <td>1</td>\n",
              "      <td>1.0</td>\n",
              "      <td>2020-04-19</td>\n",
              "      <td>2020-04-19</td>\n",
              "      <td>2</td>\n",
              "      <td>...</td>\n",
              "      <td>0</td>\n",
              "      <td>0</td>\n",
              "      <td>0</td>\n",
              "      <td>3</td>\n",
              "      <td>6</td>\n",
              "      <td>0</td>\n",
              "      <td>1.0</td>\n",
              "      <td>1.0</td>\n",
              "      <td>17</td>\n",
              "      <td>0</td>\n",
              "    </tr>\n",
              "    <tr>\n",
              "      <th>15</th>\n",
              "      <td>1057379</td>\n",
              "      <td>751</td>\n",
              "      <td>17</td>\n",
              "      <td>1</td>\n",
              "      <td>60</td>\n",
              "      <td>0</td>\n",
              "      <td>1.0</td>\n",
              "      <td>2019-10-08</td>\n",
              "      <td>2019-10-08</td>\n",
              "      <td>2</td>\n",
              "      <td>...</td>\n",
              "      <td>0</td>\n",
              "      <td>0</td>\n",
              "      <td>0</td>\n",
              "      <td>3</td>\n",
              "      <td>6</td>\n",
              "      <td>0</td>\n",
              "      <td>11.0</td>\n",
              "      <td>1.0</td>\n",
              "      <td>17</td>\n",
              "      <td>0</td>\n",
              "    </tr>\n",
              "    <tr>\n",
              "      <th>20</th>\n",
              "      <td>1052148</td>\n",
              "      <td>1123</td>\n",
              "      <td>17</td>\n",
              "      <td>1</td>\n",
              "      <td>15</td>\n",
              "      <td>0</td>\n",
              "      <td>4.0</td>\n",
              "      <td>2019-04-11</td>\n",
              "      <td>2019-04-11</td>\n",
              "      <td>2</td>\n",
              "      <td>...</td>\n",
              "      <td>0</td>\n",
              "      <td>0</td>\n",
              "      <td>0</td>\n",
              "      <td>3</td>\n",
              "      <td>6</td>\n",
              "      <td>0</td>\n",
              "      <td>13.0</td>\n",
              "      <td>1.0</td>\n",
              "      <td>17</td>\n",
              "      <td>0</td>\n",
              "    </tr>\n",
              "    <tr>\n",
              "      <th>21</th>\n",
              "      <td>1052148</td>\n",
              "      <td>1123</td>\n",
              "      <td>17</td>\n",
              "      <td>1</td>\n",
              "      <td>15</td>\n",
              "      <td>0</td>\n",
              "      <td>4.0</td>\n",
              "      <td>2019-04-11</td>\n",
              "      <td>2019-04-11</td>\n",
              "      <td>2</td>\n",
              "      <td>...</td>\n",
              "      <td>0</td>\n",
              "      <td>0</td>\n",
              "      <td>0</td>\n",
              "      <td>3</td>\n",
              "      <td>6</td>\n",
              "      <td>0</td>\n",
              "      <td>13.0</td>\n",
              "      <td>1.0</td>\n",
              "      <td>17</td>\n",
              "      <td>0</td>\n",
              "    </tr>\n",
              "    <tr>\n",
              "      <th>22</th>\n",
              "      <td>998994</td>\n",
              "      <td>1289</td>\n",
              "      <td>17</td>\n",
              "      <td>0</td>\n",
              "      <td>37</td>\n",
              "      <td>1</td>\n",
              "      <td>1.0</td>\n",
              "      <td>2019-02-11</td>\n",
              "      <td>2019-02-11</td>\n",
              "      <td>2</td>\n",
              "      <td>...</td>\n",
              "      <td>0</td>\n",
              "      <td>0</td>\n",
              "      <td>0</td>\n",
              "      <td>3</td>\n",
              "      <td>6</td>\n",
              "      <td>0</td>\n",
              "      <td>10.0</td>\n",
              "      <td>1.0</td>\n",
              "      <td>17</td>\n",
              "      <td>0</td>\n",
              "    </tr>\n",
              "    <tr>\n",
              "      <th>23</th>\n",
              "      <td>1036784</td>\n",
              "      <td>1300</td>\n",
              "      <td>17</td>\n",
              "      <td>7</td>\n",
              "      <td>51</td>\n",
              "      <td>1</td>\n",
              "      <td>3.0</td>\n",
              "      <td>2018-01-04</td>\n",
              "      <td>2018-01-04</td>\n",
              "      <td>2</td>\n",
              "      <td>...</td>\n",
              "      <td>0</td>\n",
              "      <td>0</td>\n",
              "      <td>0</td>\n",
              "      <td>3</td>\n",
              "      <td>6</td>\n",
              "      <td>0</td>\n",
              "      <td>14.0</td>\n",
              "      <td>1.0</td>\n",
              "      <td>17</td>\n",
              "      <td>0</td>\n",
              "    </tr>\n",
              "    <tr>\n",
              "      <th>35</th>\n",
              "      <td>995454</td>\n",
              "      <td>1615</td>\n",
              "      <td>17</td>\n",
              "      <td>0</td>\n",
              "      <td>64</td>\n",
              "      <td>0</td>\n",
              "      <td>1.0</td>\n",
              "      <td>2019-01-29</td>\n",
              "      <td>2019-01-29</td>\n",
              "      <td>2</td>\n",
              "      <td>...</td>\n",
              "      <td>0</td>\n",
              "      <td>0</td>\n",
              "      <td>0</td>\n",
              "      <td>1</td>\n",
              "      <td>6</td>\n",
              "      <td>0</td>\n",
              "      <td>13.0</td>\n",
              "      <td>1.0</td>\n",
              "      <td>17</td>\n",
              "      <td>0</td>\n",
              "    </tr>\n",
              "    <tr>\n",
              "      <th>37</th>\n",
              "      <td>164389</td>\n",
              "      <td>1682</td>\n",
              "      <td>17</td>\n",
              "      <td>15</td>\n",
              "      <td>59</td>\n",
              "      <td>1</td>\n",
              "      <td>3.0</td>\n",
              "      <td>2020-05-04</td>\n",
              "      <td>2020-05-04</td>\n",
              "      <td>2</td>\n",
              "      <td>...</td>\n",
              "      <td>0</td>\n",
              "      <td>0</td>\n",
              "      <td>0</td>\n",
              "      <td>3</td>\n",
              "      <td>6</td>\n",
              "      <td>0</td>\n",
              "      <td>9.0</td>\n",
              "      <td>2.0</td>\n",
              "      <td>17</td>\n",
              "      <td>0</td>\n",
              "    </tr>\n",
              "    <tr>\n",
              "      <th>38</th>\n",
              "      <td>164389</td>\n",
              "      <td>1682</td>\n",
              "      <td>17</td>\n",
              "      <td>15</td>\n",
              "      <td>59</td>\n",
              "      <td>1</td>\n",
              "      <td>3.0</td>\n",
              "      <td>2020-05-04</td>\n",
              "      <td>2020-05-04</td>\n",
              "      <td>2</td>\n",
              "      <td>...</td>\n",
              "      <td>0</td>\n",
              "      <td>0</td>\n",
              "      <td>0</td>\n",
              "      <td>3</td>\n",
              "      <td>6</td>\n",
              "      <td>0</td>\n",
              "      <td>9.0</td>\n",
              "      <td>1.0</td>\n",
              "      <td>17</td>\n",
              "      <td>0</td>\n",
              "    </tr>\n",
              "    <tr>\n",
              "      <th>39</th>\n",
              "      <td>1054980</td>\n",
              "      <td>1687</td>\n",
              "      <td>17</td>\n",
              "      <td>1</td>\n",
              "      <td>51</td>\n",
              "      <td>1</td>\n",
              "      <td>1.0</td>\n",
              "      <td>2018-08-14</td>\n",
              "      <td>2018-08-14</td>\n",
              "      <td>2</td>\n",
              "      <td>...</td>\n",
              "      <td>0</td>\n",
              "      <td>0</td>\n",
              "      <td>0</td>\n",
              "      <td>3</td>\n",
              "      <td>6</td>\n",
              "      <td>0</td>\n",
              "      <td>13.0</td>\n",
              "      <td>1.0</td>\n",
              "      <td>17</td>\n",
              "      <td>0</td>\n",
              "    </tr>\n",
              "  </tbody>\n",
              "</table>\n",
              "<p>10 rows × 26 columns</p>\n",
              "</div>\n",
              "      <button class=\"colab-df-convert\" onclick=\"convertToInteractive('df-b846cde1-3d2e-4db0-8f78-fc208ad805bf')\"\n",
              "              title=\"Convert this dataframe to an interactive table.\"\n",
              "              style=\"display:none;\">\n",
              "        \n",
              "  <svg xmlns=\"http://www.w3.org/2000/svg\" height=\"24px\"viewBox=\"0 0 24 24\"\n",
              "       width=\"24px\">\n",
              "    <path d=\"M0 0h24v24H0V0z\" fill=\"none\"/>\n",
              "    <path d=\"M18.56 5.44l.94 2.06.94-2.06 2.06-.94-2.06-.94-.94-2.06-.94 2.06-2.06.94zm-11 1L8.5 8.5l.94-2.06 2.06-.94-2.06-.94L8.5 2.5l-.94 2.06-2.06.94zm10 10l.94 2.06.94-2.06 2.06-.94-2.06-.94-.94-2.06-.94 2.06-2.06.94z\"/><path d=\"M17.41 7.96l-1.37-1.37c-.4-.4-.92-.59-1.43-.59-.52 0-1.04.2-1.43.59L10.3 9.45l-7.72 7.72c-.78.78-.78 2.05 0 2.83L4 21.41c.39.39.9.59 1.41.59.51 0 1.02-.2 1.41-.59l7.78-7.78 2.81-2.81c.8-.78.8-2.07 0-2.86zM5.41 20L4 18.59l7.72-7.72 1.47 1.35L5.41 20z\"/>\n",
              "  </svg>\n",
              "      </button>\n",
              "      \n",
              "  <style>\n",
              "    .colab-df-container {\n",
              "      display:flex;\n",
              "      flex-wrap:wrap;\n",
              "      gap: 12px;\n",
              "    }\n",
              "\n",
              "    .colab-df-convert {\n",
              "      background-color: #E8F0FE;\n",
              "      border: none;\n",
              "      border-radius: 50%;\n",
              "      cursor: pointer;\n",
              "      display: none;\n",
              "      fill: #1967D2;\n",
              "      height: 32px;\n",
              "      padding: 0 0 0 0;\n",
              "      width: 32px;\n",
              "    }\n",
              "\n",
              "    .colab-df-convert:hover {\n",
              "      background-color: #E2EBFA;\n",
              "      box-shadow: 0px 1px 2px rgba(60, 64, 67, 0.3), 0px 1px 3px 1px rgba(60, 64, 67, 0.15);\n",
              "      fill: #174EA6;\n",
              "    }\n",
              "\n",
              "    [theme=dark] .colab-df-convert {\n",
              "      background-color: #3B4455;\n",
              "      fill: #D2E3FC;\n",
              "    }\n",
              "\n",
              "    [theme=dark] .colab-df-convert:hover {\n",
              "      background-color: #434B5C;\n",
              "      box-shadow: 0px 1px 3px 1px rgba(0, 0, 0, 0.15);\n",
              "      filter: drop-shadow(0px 1px 2px rgba(0, 0, 0, 0.3));\n",
              "      fill: #FFFFFF;\n",
              "    }\n",
              "  </style>\n",
              "\n",
              "      <script>\n",
              "        const buttonEl =\n",
              "          document.querySelector('#df-b846cde1-3d2e-4db0-8f78-fc208ad805bf button.colab-df-convert');\n",
              "        buttonEl.style.display =\n",
              "          google.colab.kernel.accessAllowed ? 'block' : 'none';\n",
              "\n",
              "        async function convertToInteractive(key) {\n",
              "          const element = document.querySelector('#df-b846cde1-3d2e-4db0-8f78-fc208ad805bf');\n",
              "          const dataTable =\n",
              "            await google.colab.kernel.invokeFunction('convertToInteractive',\n",
              "                                                     [key], {});\n",
              "          if (!dataTable) return;\n",
              "\n",
              "          const docLinkHtml = 'Like what you see? Visit the ' +\n",
              "            '<a target=\"_blank\" href=https://colab.research.google.com/notebooks/data_table.ipynb>data table notebook</a>'\n",
              "            + ' to learn more about interactive tables.';\n",
              "          element.innerHTML = '';\n",
              "          dataTable['output_type'] = 'display_data';\n",
              "          await google.colab.output.renderOutput(dataTable, element);\n",
              "          const docLink = document.createElement('div');\n",
              "          docLink.innerHTML = docLinkHtml;\n",
              "          element.appendChild(docLink);\n",
              "        }\n",
              "      </script>\n",
              "    </div>\n",
              "  </div>\n",
              "  "
            ]
          },
          "metadata": {},
          "execution_count": 47
        }
      ],
      "source": [
        "df_bpjs_clean.head(10)"
      ]
    },
    {
      "cell_type": "code",
      "execution_count": null,
      "metadata": {
        "id": "VjnXIWOmEE3f"
      },
      "outputs": [],
      "source": [
        "# drop kolom yang tidak dibutuhkan\n",
        "df_bpjs_clean = df_bpjs_clean.drop(columns=['id', 'id_peserta','tgldatang','tglpulang'])"
      ]
    },
    {
      "cell_type": "code",
      "execution_count": null,
      "metadata": {
        "id": "TdnV4t_AEE3f",
        "colab": {
          "base_uri": "https://localhost:8080/"
        },
        "outputId": "593fdfcb-c612-4762-ac1f-9cb3e5f26976"
      },
      "outputs": [
        {
          "output_type": "execute_result",
          "data": {
            "text/plain": [
              "0     6206634\n",
              "3         377\n",
              "2         356\n",
              "4         196\n",
              "1         181\n",
              "5         127\n",
              "6          71\n",
              "8          33\n",
              "9          21\n",
              "12         18\n",
              "14         17\n",
              "13         15\n",
              "10         10\n",
              "7          10\n",
              "56          2\n",
              "16          2\n",
              "54          2\n",
              "11          1\n",
              "47          1\n",
              "Name: lama_kunjung, dtype: int64"
            ]
          },
          "metadata": {},
          "execution_count": 49
        }
      ],
      "source": [
        "df_bpjs_clean['lama_kunjung'].value_counts()"
      ]
    },
    {
      "cell_type": "markdown",
      "metadata": {
        "collapsed": false,
        "id": "7H1LKYoJEE3h"
      },
      "source": [
        "## Normalisasi Nilai"
      ]
    },
    {
      "cell_type": "code",
      "execution_count": null,
      "metadata": {
        "id": "1xeQOuTEEE3h"
      },
      "outputs": [],
      "source": [
        "# skalasi data dengan MinMax (membawa rentang nilai ke antara 0 dan 1)\n",
        "scaler = MinMaxScaler()\n",
        "scaler.fit(df_bpjs_clean)\n",
        "scaled = scaler.fit_transform(df_bpjs_clean)\n",
        "df_scaled = pd.DataFrame(scaled, columns=df_bpjs_clean.columns)"
      ]
    },
    {
      "cell_type": "code",
      "execution_count": null,
      "metadata": {
        "id": "zozIUbueEE3i"
      },
      "outputs": [],
      "source": [
        "df_scaled = df_scaled.dropna()"
      ]
    },
    {
      "cell_type": "code",
      "execution_count": null,
      "metadata": {
        "id": "c9eHWF-zEE3i",
        "colab": {
          "base_uri": "https://localhost:8080/"
        },
        "outputId": "234c1d0a-b961-474e-9594-1f9cb6b5835f"
      },
      "outputs": [
        {
          "output_type": "execute_result",
          "data": {
            "text/plain": [
              "dati2           0\n",
              "typefaskes      0\n",
              "usia            0\n",
              "jenkel          0\n",
              "pisat           0\n",
              "jenispel        0\n",
              "politujuan      0\n",
              "diagfktp        0\n",
              "biaya           0\n",
              "jenispulang     0\n",
              "cbg             0\n",
              "kelasrawat      0\n",
              "kdsa            0\n",
              "kdsp            0\n",
              "kdsr            0\n",
              "kdsi            0\n",
              "kdsd            0\n",
              "label           0\n",
              "diag            0\n",
              "levelid         0\n",
              "proc            0\n",
              "lama_kunjung    0\n",
              "dtype: int64"
            ]
          },
          "metadata": {},
          "execution_count": 52
        }
      ],
      "source": [
        "df_scaled.isnull().sum()"
      ]
    },
    {
      "cell_type": "markdown",
      "metadata": {
        "collapsed": false,
        "id": "ygnk8QPaEE3j"
      },
      "source": [
        "## Resampling Imbalanced Label"
      ]
    },
    {
      "cell_type": "code",
      "execution_count": null,
      "metadata": {
        "id": "Ol1ChJ0FEE3j",
        "colab": {
          "base_uri": "https://localhost:8080/"
        },
        "outputId": "faa9695e-ab0b-4461-d943-d522b5fb5391"
      },
      "outputs": [
        {
          "output_type": "execute_result",
          "data": {
            "text/plain": [
              "0.0    6144849\n",
              "1.0      63140\n",
              "Name: label, dtype: int64"
            ]
          },
          "metadata": {},
          "execution_count": 53
        }
      ],
      "source": [
        "df_scaled[\"label\"].value_counts()"
      ]
    },
    {
      "cell_type": "code",
      "execution_count": null,
      "metadata": {
        "id": "hfL6wXDMEE3k",
        "colab": {
          "base_uri": "https://localhost:8080/",
          "height": 340
        },
        "outputId": "5ed044aa-9b28-4c16-f9ca-1e0a4a02d971"
      },
      "outputs": [
        {
          "output_type": "stream",
          "name": "stdout",
          "text": [
            "Class 0: 6144849\n",
            "Class 1: 63140\n",
            "Proportion: 97.32 : 1\n"
          ]
        },
        {
          "output_type": "display_data",
          "data": {
            "text/plain": [
              "<Figure size 432x288 with 1 Axes>"
            ],
            "image/png": "[encoded data removed]"
          },
          "metadata": {
            "needs_background": "light"
          }
        }
      ],
      "source": [
        "label_count = df_scaled.label.value_counts()\n",
        "print('Class 0:', label_count[0])\n",
        "print('Class 1:', label_count[1])\n",
        "print('Proportion:', round(label_count[0] / label_count[1], 2), ': 1')\n",
        "\n",
        "label_count.plot(kind='bar', title='Count (label)');"
      ]
    },
    {
      "cell_type": "code",
      "execution_count": null,
      "metadata": {
        "id": "Ukm0MQyaEE3k"
      },
      "outputs": [],
      "source": [
        "X = df_scaled.drop(['label'], axis = 1)\n",
        "y = df_scaled['label']"
      ]
    },
    {
      "cell_type": "code",
      "execution_count": null,
      "metadata": {
        "id": "w41sYhacEE3k",
        "colab": {
          "base_uri": "https://localhost:8080/"
        },
        "outputId": "a79c5adc-86c5-4ffe-ac48-67a99553914d"
      },
      "outputs": [
        {
          "output_type": "stream",
          "name": "stdout",
          "text": [
            "(6207989, 21)\n",
            "(6207989,)\n"
          ]
        }
      ],
      "source": [
        "print(X.shape)\n",
        "print(y.shape)"
      ]
    },
    {
      "cell_type": "code",
      "execution_count": null,
      "metadata": {
        "id": "lKu4k7xnEE3l",
        "colab": {
          "base_uri": "https://localhost:8080/"
        },
        "outputId": "d8abfd6f-df8e-4f92-a96d-4be793738b37"
      },
      "outputs": [
        {
          "output_type": "stream",
          "name": "stdout",
          "text": [
            "<class 'pandas.core.frame.DataFrame'>\n",
            "Int64Index: 6207989 entries, 0 to 6208073\n",
            "Data columns (total 21 columns):\n",
            " #   Column        Non-Null Count    Dtype  \n",
            "---  ------        --------------    -----  \n",
            " 0   dati2         6207989 non-null  float64\n",
            " 1   typefaskes    6207989 non-null  float64\n",
            " 2   usia          6207989 non-null  float64\n",
            " 3   jenkel        6207989 non-null  float64\n",
            " 4   pisat         6207989 non-null  float64\n",
            " 5   jenispel      6207989 non-null  float64\n",
            " 6   politujuan    6207989 non-null  float64\n",
            " 7   diagfktp      6207989 non-null  float64\n",
            " 8   biaya         6207989 non-null  float64\n",
            " 9   jenispulang   6207989 non-null  float64\n",
            " 10  cbg           6207989 non-null  float64\n",
            " 11  kelasrawat    6207989 non-null  float64\n",
            " 12  kdsa          6207989 non-null  float64\n",
            " 13  kdsp          6207989 non-null  float64\n",
            " 14  kdsr          6207989 non-null  float64\n",
            " 15  kdsi          6207989 non-null  float64\n",
            " 16  kdsd          6207989 non-null  float64\n",
            " 17  diag          6207989 non-null  float64\n",
            " 18  levelid       6207989 non-null  float64\n",
            " 19  proc          6207989 non-null  float64\n",
            " 20  lama_kunjung  6207989 non-null  float64\n",
            "dtypes: float64(21)\n",
            "memory usage: 1.0 GB\n"
          ]
        }
      ],
      "source": [
        "X.info(verbose=True, show_counts=True)"
      ]
    },
    {
      "cell_type": "code",
      "execution_count": null,
      "metadata": {
        "id": "hnAC9ElJEE3n",
        "colab": {
          "base_uri": "https://localhost:8080/"
        },
        "outputId": "d10a60b5-2552-4777-b624-c79970fe4da7"
      },
      "outputs": [
        {
          "output_type": "stream",
          "name": "stdout",
          "text": [
            "Before undersampling:  Counter({0.0: 4608474, 1.0: 47517})\n",
            "After undersampling:  Counter({0.0: 47517, 1.0: 47517})\n",
            "After oversampling:  Counter({0.0: 4608474, 1.0: 4608474})\n"
          ]
        }
      ],
      "source": [
        "#todo lakukan split dataset untuk training dan testing\n",
        "from collections import Counter\n",
        "from imblearn.under_sampling import RandomUnderSampler\n",
        "from imblearn.over_sampling import RandomOverSampler\n",
        "from sklearn.model_selection import train_test_split\n",
        "import warnings\n",
        "warnings.simplefilter(action='ignore', category=FutureWarning)\n",
        "\n",
        "#Split train-test data\n",
        "X_train, X_test, y_train, y_test = train_test_split(X,y,random_state=0)\n",
        "\n",
        "# summarize class distribution\n",
        "print(\"Before undersampling: \", Counter(y_train))\n",
        "\n",
        "# define undersampling strategy\n",
        "undersample = RandomUnderSampler(sampling_strategy='majority')\n",
        "oversample = RandomOverSampler(sampling_strategy='minority')\n",
        "\n",
        "# fit and apply the transform\n",
        "X_train_under, y_train_under = undersample.fit_resample(X_train, y_train)\n",
        "X_train_over, y_train_over = oversample.fit_resample(X_train, y_train)\n",
        "\n",
        "# summarize class distribution\n",
        "print(\"After undersampling: \", Counter(y_train_under))\n",
        "print(\"After oversampling: \", Counter(y_train_over))"
      ]
    },
    {
      "cell_type": "code",
      "source": [
        "from sklearn.metrics import classification_report, roc_auc_score, accuracy_score\n",
        "from sklearn.tree import DecisionTreeClassifier\n",
        "dtc = DecisionTreeClassifier(random_state=1)\n",
        "dtc.fit(X_train_over , y_train_over)\n",
        "y_pred = dtc.predict(X_test)\n",
        "\n",
        "tn,fp,fn,tp = confusion_matrix(y_test,y_pred).ravel()\n",
        "specificity = tn/(tn+fp)\n",
        "recall = tp/(tp+fn)\n",
        "precision = tp/(tp+fp)\n",
        "f1_score = 2*((precision*recall)/(precision+recall))\n",
        "\n",
        "print(\"Specificity : \",specificity)\n",
        "print(\"Recall : \",recall)\n",
        "print(\"Precision : \",precision)\n",
        "print(\"Accuracy : \",accuracy_score(y_test,y_pred))\n",
        "print(\"F1 score : \", f1_score)\n",
        "print(\"Classification Report\")\n",
        "print(classification_report(y_test, y_pred))"
      ],
      "metadata": {
        "id": "B3BGKxN7SP2g",
        "colab": {
          "base_uri": "https://localhost:8080/"
        },
        "outputId": "20fa93d5-e76b-4731-9bcb-0ff1464c8d03"
      },
      "execution_count": null,
      "outputs": [
        {
          "output_type": "stream",
          "name": "stdout",
          "text": [
            "Specificity :  0.995878610365308\n",
            "Recall :  0.7304614990718812\n",
            "Precision :  0.6431469792605952\n",
            "Accuracy :  0.9932068211428108\n",
            "F1 score :  0.6840291305781162\n",
            "Classification Report\n",
            "              precision    recall  f1-score   support\n",
            "\n",
            "         0.0       1.00      1.00      1.00   1536375\n",
            "         1.0       0.64      0.73      0.68     15623\n",
            "\n",
            "    accuracy                           0.99   1551998\n",
            "   macro avg       0.82      0.86      0.84   1551998\n",
            "weighted avg       0.99      0.99      0.99   1551998\n",
            "\n"
          ]
        }
      ]
    }
  ],
  "metadata": {
    "colab": {
      "machine_shape": "hm",
      "provenance": [],
      "collapsed_sections": [
        "d-GzOW4HQ8NT",
        "clmv3xQCEE3L",
        "-Hy_RMXpEE3R"
      ],
      "toc_visible": true,
      "include_colab_link": true
    },
    "kernelspec": {
      "display_name": "Python 3",
      "language": "python",
      "name": "python3"
    },
    "language_info": {
      "codemirror_mode": {
        "name": "ipython",
        "version": 2
      },
      "file_extension": ".py",
      "mimetype": "text/x-python",
      "name": "python",
      "nbconvert_exporter": "python",
      "pygments_lexer": "ipython2",
      "version": "2.7.6"
    }
  },
  "nbformat": 4,
  "nbformat_minor": 0
}